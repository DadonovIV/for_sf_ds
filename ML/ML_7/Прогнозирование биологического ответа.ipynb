{
 "cells": [
  {
   "cell_type": "code",
   "execution_count": 1,
   "metadata": {},
   "outputs": [],
   "source": [
    "#импорт библиотек\n",
    "import numpy as np #для матричных вычислений\n",
    "import pandas as pd #для анализа и предобработки данных\n",
    "import matplotlib.pyplot as plt #для визуализации\n",
    "import seaborn as sns #для визуализации\n",
    "\n",
    "from sklearn import linear_model #линейные моделиё\n",
    "from sklearn import tree #деревья решений\n",
    "from sklearn import ensemble #ансамбли\n",
    "from sklearn import metrics #метрики\n",
    "from sklearn import preprocessing #предобработка\n",
    "from sklearn import model_selection #методы разделения и валидации\n",
    "from sklearn.model_selection import train_test_split #сплитование выборки\n",
    "from sklearn.metrics import f1_score\n",
    "%matplotlib inline\n",
    "plt.style.use(\"seaborn-v0_8\")"
   ]
  },
  {
   "cell_type": "markdown",
   "metadata": {},
   "source": [
    "#### Загрузка данных"
   ]
  },
  {
   "cell_type": "code",
   "execution_count": 2,
   "metadata": {},
   "outputs": [],
   "source": [
    "data = pd.read_csv('data/_train_sem09 (1).csv')"
   ]
  },
  {
   "cell_type": "code",
   "execution_count": 3,
   "metadata": {},
   "outputs": [
    {
     "data": {
      "text/html": [
       "<div>\n",
       "<style scoped>\n",
       "    .dataframe tbody tr th:only-of-type {\n",
       "        vertical-align: middle;\n",
       "    }\n",
       "\n",
       "    .dataframe tbody tr th {\n",
       "        vertical-align: top;\n",
       "    }\n",
       "\n",
       "    .dataframe thead th {\n",
       "        text-align: right;\n",
       "    }\n",
       "</style>\n",
       "<table border=\"1\" class=\"dataframe\">\n",
       "  <thead>\n",
       "    <tr style=\"text-align: right;\">\n",
       "      <th></th>\n",
       "      <th>Activity</th>\n",
       "      <th>D1</th>\n",
       "      <th>D2</th>\n",
       "      <th>D3</th>\n",
       "      <th>D4</th>\n",
       "      <th>D5</th>\n",
       "      <th>D6</th>\n",
       "      <th>D7</th>\n",
       "      <th>D8</th>\n",
       "      <th>D9</th>\n",
       "      <th>...</th>\n",
       "      <th>D1767</th>\n",
       "      <th>D1768</th>\n",
       "      <th>D1769</th>\n",
       "      <th>D1770</th>\n",
       "      <th>D1771</th>\n",
       "      <th>D1772</th>\n",
       "      <th>D1773</th>\n",
       "      <th>D1774</th>\n",
       "      <th>D1775</th>\n",
       "      <th>D1776</th>\n",
       "    </tr>\n",
       "  </thead>\n",
       "  <tbody>\n",
       "    <tr>\n",
       "      <th>0</th>\n",
       "      <td>1</td>\n",
       "      <td>0.000000</td>\n",
       "      <td>0.497009</td>\n",
       "      <td>0.10</td>\n",
       "      <td>0.0</td>\n",
       "      <td>0.132956</td>\n",
       "      <td>0.678031</td>\n",
       "      <td>0.273166</td>\n",
       "      <td>0.585445</td>\n",
       "      <td>0.743663</td>\n",
       "      <td>...</td>\n",
       "      <td>0</td>\n",
       "      <td>0</td>\n",
       "      <td>0</td>\n",
       "      <td>0</td>\n",
       "      <td>0</td>\n",
       "      <td>0</td>\n",
       "      <td>0</td>\n",
       "      <td>0</td>\n",
       "      <td>0</td>\n",
       "      <td>0</td>\n",
       "    </tr>\n",
       "    <tr>\n",
       "      <th>1</th>\n",
       "      <td>1</td>\n",
       "      <td>0.366667</td>\n",
       "      <td>0.606291</td>\n",
       "      <td>0.05</td>\n",
       "      <td>0.0</td>\n",
       "      <td>0.111209</td>\n",
       "      <td>0.803455</td>\n",
       "      <td>0.106105</td>\n",
       "      <td>0.411754</td>\n",
       "      <td>0.836582</td>\n",
       "      <td>...</td>\n",
       "      <td>1</td>\n",
       "      <td>1</td>\n",
       "      <td>1</td>\n",
       "      <td>1</td>\n",
       "      <td>0</td>\n",
       "      <td>1</td>\n",
       "      <td>0</td>\n",
       "      <td>0</td>\n",
       "      <td>1</td>\n",
       "      <td>0</td>\n",
       "    </tr>\n",
       "  </tbody>\n",
       "</table>\n",
       "<p>2 rows × 1777 columns</p>\n",
       "</div>"
      ],
      "text/plain": [
       "   Activity        D1        D2    D3   D4        D5        D6        D7  \\\n",
       "0         1  0.000000  0.497009  0.10  0.0  0.132956  0.678031  0.273166   \n",
       "1         1  0.366667  0.606291  0.05  0.0  0.111209  0.803455  0.106105   \n",
       "\n",
       "         D8        D9  ...  D1767  D1768  D1769  D1770  D1771  D1772  D1773  \\\n",
       "0  0.585445  0.743663  ...      0      0      0      0      0      0      0   \n",
       "1  0.411754  0.836582  ...      1      1      1      1      0      1      0   \n",
       "\n",
       "   D1774  D1775  D1776  \n",
       "0      0      0      0  \n",
       "1      0      1      0  \n",
       "\n",
       "[2 rows x 1777 columns]"
      ]
     },
     "execution_count": 3,
     "metadata": {},
     "output_type": "execute_result"
    }
   ],
   "source": [
    "data.head(2)"
   ]
  },
  {
   "cell_type": "markdown",
   "metadata": {},
   "source": [
    "#### Проверяем выборку на дисбаланс"
   ]
  },
  {
   "cell_type": "code",
   "execution_count": 4,
   "metadata": {},
   "outputs": [
    {
     "name": "stdout",
     "output_type": "stream",
     "text": [
      "Activity is 0: 45.77%\n",
      "Activity is 1: 54.23%\n"
     ]
    },
    {
     "name": "stderr",
     "output_type": "stream",
     "text": [
      "C:\\Users\\ilyad\\AppData\\Local\\Temp\\ipykernel_20820\\3357842927.py:1: FutureWarning: \n",
      "\n",
      "Passing `palette` without assigning `hue` is deprecated and will be removed in v0.14.0. Assign the `x` variable to `hue` and set `legend=False` for the same effect.\n",
      "\n",
      "  sns.countplot(data=data, x='Activity', palette='CMRmap')\n"
     ]
    },
    {
     "data": {
      "image/png": "[encoded data removed]",
      "text/plain": [
       "<Figure size 800x550 with 1 Axes>"
      ]
     },
     "metadata": {},
     "output_type": "display_data"
    }
   ],
   "source": [
    "sns.countplot(data=data, x='Activity', palette='CMRmap')\n",
    "activity_percent = data['Activity'].value_counts(normalize=True) * 100\n",
    "print('Activity is 0: {:.2f}%'.format(activity_percent[0]))\n",
    "print('Activity is 1: {:.2f}%'.format(activity_percent[1]))"
   ]
  },
  {
   "cell_type": "markdown",
   "metadata": {},
   "source": [
    ">Выборку можно считать сбалансированной.\n",
    "\n",
    "Разделим выборку на тренировочную и тестовую в соотношении 80/20."
   ]
  },
  {
   "cell_type": "code",
   "execution_count": 5,
   "metadata": {},
   "outputs": [],
   "source": [
    "X, y = data.drop('Activity', axis=1), data['Activity']\n",
    "X_train, X_test, y_train, y_test = model_selection.train_test_split(X, y, stratify=y, test_size=0.2, random_state=42)"
   ]
  },
  {
   "cell_type": "markdown",
   "metadata": {},
   "source": [
    "### Оптимизация гиперпараметров модели\n",
    "\n",
    "#### Логистическая регрессия\n",
    "\n",
    "Зафиксируем метрику $F1$-score, полученную без дополнительной настройки, т.е со значениями гиперпараметров, установленных по умолчанию:"
   ]
  },
  {
   "cell_type": "code",
   "execution_count": 6,
   "metadata": {},
   "outputs": [
    {
     "name": "stdout",
     "output_type": "stream",
     "text": [
      "f1_score на тестовом наборе: 0.78\n"
     ]
    },
    {
     "name": "stderr",
     "output_type": "stream",
     "text": [
      "c:\\Users\\ilyad\\AppData\\Local\\Programs\\Python\\Python311\\Lib\\site-packages\\sklearn\\linear_model\\_logistic.py:469: ConvergenceWarning: lbfgs failed to converge (status=1):\n",
      "STOP: TOTAL NO. of ITERATIONS REACHED LIMIT.\n",
      "\n",
      "Increase the number of iterations (max_iter) or scale the data as shown in:\n",
      "    https://scikit-learn.org/stable/modules/preprocessing.html\n",
      "Please also refer to the documentation for alternative solver options:\n",
      "    https://scikit-learn.org/stable/modules/linear_model.html#logistic-regression\n",
      "  n_iter_i = _check_optimize_result(\n"
     ]
    }
   ],
   "source": [
    "#Создаем объект класса логистическая регрессия\n",
    "log_reg = linear_model.LogisticRegression(random_state=42, max_iter=50)\n",
    "#Обучаем модель, минимизируя logloss\n",
    "log_reg.fit(X_train, y_train)\n",
    "y_test_pred = log_reg.predict(X_test)\n",
    "print('f1_score на тестовом наборе: {:.2f}'.format(metrics.f1_score(y_test, y_test_pred)))"
   ]
  },
  {
   "cell_type": "markdown",
   "metadata": {},
   "source": [
    "#### GridSearchCV\n",
    "\n",
    "Пробуем подобрать оптимальные параметры с помощью поиска по сетке"
   ]
  },
  {
   "cell_type": "code",
   "execution_count": 7,
   "metadata": {},
   "outputs": [
    {
     "name": "stderr",
     "output_type": "stream",
     "text": [
      "c:\\Users\\ilyad\\AppData\\Local\\Programs\\Python\\Python311\\Lib\\site-packages\\sklearn\\model_selection\\_validation.py:540: FitFailedWarning: \n",
      "60 fits failed out of a total of 180.\n",
      "The score on these train-test partitions for these parameters will be set to nan.\n",
      "If these failures are not expected, you can try to debug them by setting error_score='raise'.\n",
      "\n",
      "Below are more details about the failures:\n",
      "--------------------------------------------------------------------------------\n",
      "9 fits failed with the following error:\n",
      "Traceback (most recent call last):\n",
      "  File \"c:\\Users\\ilyad\\AppData\\Local\\Programs\\Python\\Python311\\Lib\\site-packages\\sklearn\\model_selection\\_validation.py\", line 888, in _fit_and_score\n",
      "    estimator.fit(X_train, y_train, **fit_params)\n",
      "  File \"c:\\Users\\ilyad\\AppData\\Local\\Programs\\Python\\Python311\\Lib\\site-packages\\sklearn\\base.py\", line 1466, in wrapper\n",
      "    estimator._validate_params()\n",
      "  File \"c:\\Users\\ilyad\\AppData\\Local\\Programs\\Python\\Python311\\Lib\\site-packages\\sklearn\\base.py\", line 666, in _validate_params\n",
      "    validate_parameter_constraints(\n",
      "  File \"c:\\Users\\ilyad\\AppData\\Local\\Programs\\Python\\Python311\\Lib\\site-packages\\sklearn\\utils\\_param_validation.py\", line 95, in validate_parameter_constraints\n",
      "    raise InvalidParameterError(\n",
      "sklearn.utils._param_validation.InvalidParameterError: The 'penalty' parameter of LogisticRegression must be a str among {'l2', 'l1', 'elasticnet'} or None. Got 'none' instead.\n",
      "\n",
      "--------------------------------------------------------------------------------\n",
      "8 fits failed with the following error:\n",
      "Traceback (most recent call last):\n",
      "  File \"c:\\Users\\ilyad\\AppData\\Local\\Programs\\Python\\Python311\\Lib\\site-packages\\sklearn\\model_selection\\_validation.py\", line 888, in _fit_and_score\n",
      "    estimator.fit(X_train, y_train, **fit_params)\n",
      "  File \"c:\\Users\\ilyad\\AppData\\Local\\Programs\\Python\\Python311\\Lib\\site-packages\\sklearn\\base.py\", line 1466, in wrapper\n",
      "    estimator._validate_params()\n",
      "  File \"c:\\Users\\ilyad\\AppData\\Local\\Programs\\Python\\Python311\\Lib\\site-packages\\sklearn\\base.py\", line 666, in _validate_params\n",
      "    validate_parameter_constraints(\n",
      "  File \"c:\\Users\\ilyad\\AppData\\Local\\Programs\\Python\\Python311\\Lib\\site-packages\\sklearn\\utils\\_param_validation.py\", line 95, in validate_parameter_constraints\n",
      "    raise InvalidParameterError(\n",
      "sklearn.utils._param_validation.InvalidParameterError: The 'penalty' parameter of LogisticRegression must be a str among {'l1', 'l2', 'elasticnet'} or None. Got 'none' instead.\n",
      "\n",
      "--------------------------------------------------------------------------------\n",
      "23 fits failed with the following error:\n",
      "Traceback (most recent call last):\n",
      "  File \"c:\\Users\\ilyad\\AppData\\Local\\Programs\\Python\\Python311\\Lib\\site-packages\\sklearn\\model_selection\\_validation.py\", line 888, in _fit_and_score\n",
      "    estimator.fit(X_train, y_train, **fit_params)\n",
      "  File \"c:\\Users\\ilyad\\AppData\\Local\\Programs\\Python\\Python311\\Lib\\site-packages\\sklearn\\base.py\", line 1466, in wrapper\n",
      "    estimator._validate_params()\n",
      "  File \"c:\\Users\\ilyad\\AppData\\Local\\Programs\\Python\\Python311\\Lib\\site-packages\\sklearn\\base.py\", line 666, in _validate_params\n",
      "    validate_parameter_constraints(\n",
      "  File \"c:\\Users\\ilyad\\AppData\\Local\\Programs\\Python\\Python311\\Lib\\site-packages\\sklearn\\utils\\_param_validation.py\", line 95, in validate_parameter_constraints\n",
      "    raise InvalidParameterError(\n",
      "sklearn.utils._param_validation.InvalidParameterError: The 'penalty' parameter of LogisticRegression must be a str among {'elasticnet', 'l2', 'l1'} or None. Got 'none' instead.\n",
      "\n",
      "--------------------------------------------------------------------------------\n",
      "9 fits failed with the following error:\n",
      "Traceback (most recent call last):\n",
      "  File \"c:\\Users\\ilyad\\AppData\\Local\\Programs\\Python\\Python311\\Lib\\site-packages\\sklearn\\model_selection\\_validation.py\", line 888, in _fit_and_score\n",
      "    estimator.fit(X_train, y_train, **fit_params)\n",
      "  File \"c:\\Users\\ilyad\\AppData\\Local\\Programs\\Python\\Python311\\Lib\\site-packages\\sklearn\\base.py\", line 1466, in wrapper\n",
      "    estimator._validate_params()\n",
      "  File \"c:\\Users\\ilyad\\AppData\\Local\\Programs\\Python\\Python311\\Lib\\site-packages\\sklearn\\base.py\", line 666, in _validate_params\n",
      "    validate_parameter_constraints(\n",
      "  File \"c:\\Users\\ilyad\\AppData\\Local\\Programs\\Python\\Python311\\Lib\\site-packages\\sklearn\\utils\\_param_validation.py\", line 95, in validate_parameter_constraints\n",
      "    raise InvalidParameterError(\n",
      "sklearn.utils._param_validation.InvalidParameterError: The 'penalty' parameter of LogisticRegression must be a str among {'l2', 'elasticnet', 'l1'} or None. Got 'none' instead.\n",
      "\n",
      "--------------------------------------------------------------------------------\n",
      "11 fits failed with the following error:\n",
      "Traceback (most recent call last):\n",
      "  File \"c:\\Users\\ilyad\\AppData\\Local\\Programs\\Python\\Python311\\Lib\\site-packages\\sklearn\\model_selection\\_validation.py\", line 888, in _fit_and_score\n",
      "    estimator.fit(X_train, y_train, **fit_params)\n",
      "  File \"c:\\Users\\ilyad\\AppData\\Local\\Programs\\Python\\Python311\\Lib\\site-packages\\sklearn\\base.py\", line 1466, in wrapper\n",
      "    estimator._validate_params()\n",
      "  File \"c:\\Users\\ilyad\\AppData\\Local\\Programs\\Python\\Python311\\Lib\\site-packages\\sklearn\\base.py\", line 666, in _validate_params\n",
      "    validate_parameter_constraints(\n",
      "  File \"c:\\Users\\ilyad\\AppData\\Local\\Programs\\Python\\Python311\\Lib\\site-packages\\sklearn\\utils\\_param_validation.py\", line 95, in validate_parameter_constraints\n",
      "    raise InvalidParameterError(\n",
      "sklearn.utils._param_validation.InvalidParameterError: The 'penalty' parameter of LogisticRegression must be a str among {'elasticnet', 'l1', 'l2'} or None. Got 'none' instead.\n",
      "\n",
      "  warnings.warn(some_fits_failed_message, FitFailedWarning)\n",
      "c:\\Users\\ilyad\\AppData\\Local\\Programs\\Python\\Python311\\Lib\\site-packages\\sklearn\\model_selection\\_search.py:1052: UserWarning: One or more of the test scores are non-finite: [0.75772746 0.78676988        nan 0.78962773 0.7806284         nan\n",
      " 0.78373643 0.77916669        nan 0.78033229 0.77940228        nan\n",
      " 0.7881061  0.78785511        nan        nan 0.78265725 0.7783381\n",
      "        nan        nan 0.77582871 0.77930517        nan        nan\n",
      " 0.7720333  0.78015342        nan        nan 0.75772746 0.78554509\n",
      " 0.78829587 0.77725168 0.78534717 0.77755074 0.78068116 0.77378594]\n",
      "  warnings.warn(\n"
     ]
    },
    {
     "name": "stdout",
     "output_type": "stream",
     "text": [
      "CPU times: total: 3.3 s\n",
      "Wall time: 29.1 s\n",
      "f1_score на тестовом наборе: 0.78\n",
      "Наилучшие значения гиперпараметров: {'C': 0.35, 'penalty': 'l1', 'solver': 'saga'}\n"
     ]
    },
    {
     "name": "stderr",
     "output_type": "stream",
     "text": [
      "c:\\Users\\ilyad\\AppData\\Local\\Programs\\Python\\Python311\\Lib\\site-packages\\sklearn\\linear_model\\_sag.py:349: ConvergenceWarning: The max_iter was reached which means the coef_ did not converge\n",
      "  warnings.warn(\n"
     ]
    }
   ],
   "source": [
    "from sklearn.model_selection import GridSearchCV\n",
    "\n",
    "param_grid = [{'penalty': ['l1', 'l2', 'none'] , # тип регуляризации\n",
    "              'solver': ['saga'], # алгоритм оптимизации\n",
    "               'C': [0.01, 0.35, 0.7, 1]}, # уровень силы регуляризации\n",
    "                {'penalty': ['l2', 'none'] ,\n",
    "              'solver': ['lbfgs', 'sag'], \n",
    "               'C': [0.01, 0.35, 0.7, 1]}, \n",
    "               {'penalty': ['l1', 'l2'] ,\n",
    "              'solver': ['liblinear'], \n",
    "               'C': [0.01, 0.35, 0.7, 1]}\n",
    "             ]\n",
    "\n",
    "grid_search_1 = GridSearchCV(\n",
    "    estimator=log_reg, \n",
    "    param_grid=param_grid,\n",
    "    scoring = 'f1', \n",
    "    cv=5, \n",
    "    n_jobs = -1\n",
    ") \n",
    "%time grid_search_1.fit(X_train, y_train) \n",
    "y_test_pred = grid_search_1.predict(X_test)\n",
    "print('f1_score на тестовом наборе: {:.2f}'.format(metrics.f1_score(y_test, y_test_pred)))\n",
    "print(\"Наилучшие значения гиперпараметров: {}\".format(grid_search_1.best_params_))"
   ]
  },
  {
   "cell_type": "code",
   "execution_count": 8,
   "metadata": {},
   "outputs": [
    {
     "data": {
      "text/html": [
       "<div>\n",
       "<style scoped>\n",
       "    .dataframe tbody tr th:only-of-type {\n",
       "        vertical-align: middle;\n",
       "    }\n",
       "\n",
       "    .dataframe tbody tr th {\n",
       "        vertical-align: top;\n",
       "    }\n",
       "\n",
       "    .dataframe thead th {\n",
       "        text-align: right;\n",
       "    }\n",
       "</style>\n",
       "<table border=\"1\" class=\"dataframe\">\n",
       "  <thead>\n",
       "    <tr style=\"text-align: right;\">\n",
       "      <th></th>\n",
       "      <th>mean_fit_time</th>\n",
       "      <th>std_fit_time</th>\n",
       "      <th>mean_score_time</th>\n",
       "      <th>std_score_time</th>\n",
       "      <th>param_C</th>\n",
       "      <th>param_penalty</th>\n",
       "      <th>param_solver</th>\n",
       "      <th>params</th>\n",
       "      <th>split0_test_score</th>\n",
       "      <th>split1_test_score</th>\n",
       "      <th>split2_test_score</th>\n",
       "      <th>split3_test_score</th>\n",
       "      <th>split4_test_score</th>\n",
       "      <th>mean_test_score</th>\n",
       "      <th>std_test_score</th>\n",
       "      <th>rank_test_score</th>\n",
       "    </tr>\n",
       "  </thead>\n",
       "  <tbody>\n",
       "    <tr>\n",
       "      <th>0</th>\n",
       "      <td>1.371199</td>\n",
       "      <td>0.181697</td>\n",
       "      <td>0.0224</td>\n",
       "      <td>0.002728</td>\n",
       "      <td>0.01</td>\n",
       "      <td>l1</td>\n",
       "      <td>saga</td>\n",
       "      <td>{'C': 0.01, 'penalty': 'l1', 'solver': 'saga'}</td>\n",
       "      <td>0.774691</td>\n",
       "      <td>0.773885</td>\n",
       "      <td>0.756672</td>\n",
       "      <td>0.745710</td>\n",
       "      <td>0.737679</td>\n",
       "      <td>0.757727</td>\n",
       "      <td>0.014808</td>\n",
       "      <td>23</td>\n",
       "    </tr>\n",
       "    <tr>\n",
       "      <th>1</th>\n",
       "      <td>3.472000</td>\n",
       "      <td>0.380734</td>\n",
       "      <td>0.0258</td>\n",
       "      <td>0.009217</td>\n",
       "      <td>0.01</td>\n",
       "      <td>l2</td>\n",
       "      <td>saga</td>\n",
       "      <td>{'C': 0.01, 'penalty': 'l2', 'solver': 'saga'}</td>\n",
       "      <td>0.815362</td>\n",
       "      <td>0.791988</td>\n",
       "      <td>0.769006</td>\n",
       "      <td>0.791728</td>\n",
       "      <td>0.765766</td>\n",
       "      <td>0.786770</td>\n",
       "      <td>0.018034</td>\n",
       "      <td>5</td>\n",
       "    </tr>\n",
       "  </tbody>\n",
       "</table>\n",
       "</div>"
      ],
      "text/plain": [
       "   mean_fit_time  std_fit_time  mean_score_time  std_score_time  param_C  \\\n",
       "0       1.371199      0.181697           0.0224        0.002728     0.01   \n",
       "1       3.472000      0.380734           0.0258        0.009217     0.01   \n",
       "\n",
       "  param_penalty param_solver                                          params  \\\n",
       "0            l1         saga  {'C': 0.01, 'penalty': 'l1', 'solver': 'saga'}   \n",
       "1            l2         saga  {'C': 0.01, 'penalty': 'l2', 'solver': 'saga'}   \n",
       "\n",
       "   split0_test_score  split1_test_score  split2_test_score  split3_test_score  \\\n",
       "0           0.774691           0.773885           0.756672           0.745710   \n",
       "1           0.815362           0.791988           0.769006           0.791728   \n",
       "\n",
       "   split4_test_score  mean_test_score  std_test_score  rank_test_score  \n",
       "0           0.737679         0.757727        0.014808               23  \n",
       "1           0.765766         0.786770        0.018034                5  "
      ]
     },
     "execution_count": 8,
     "metadata": {},
     "output_type": "execute_result"
    }
   ],
   "source": [
    "# Результаты кросс-валидации\n",
    "result_cv = pd.DataFrame(grid_search_1.cv_results_)\n",
    "result_cv.head(2)"
   ]
  },
  {
   "cell_type": "code",
   "execution_count": 9,
   "metadata": {},
   "outputs": [
    {
     "data": {
      "text/plain": [
       "Index(['mean_fit_time', 'std_fit_time', 'mean_score_time', 'std_score_time',\n",
       "       'param_C', 'param_penalty', 'param_solver', 'params',\n",
       "       'split0_test_score', 'split1_test_score', 'split2_test_score',\n",
       "       'split3_test_score', 'split4_test_score', 'mean_test_score',\n",
       "       'std_test_score', 'rank_test_score'],\n",
       "      dtype='object')"
      ]
     },
     "execution_count": 9,
     "metadata": {},
     "output_type": "execute_result"
    }
   ],
   "source": [
    "result_cv.columns"
   ]
  },
  {
   "cell_type": "code",
   "execution_count": 10,
   "metadata": {},
   "outputs": [
    {
     "data": {
      "image/png": "[encoded data removed]",
      "text/plain": [
       "<Figure size 800x550 with 2 Axes>"
      ]
     },
     "metadata": {},
     "output_type": "display_data"
    }
   ],
   "source": [
    "# Отрисуем, как менялась точность при различных гиперпараметрах\n",
    "visual = pd.pivot_table(pd.DataFrame(grid_search_1.cv_results_),\n",
    "                        values='mean_test_score', index='param_C',\n",
    "                        columns=['param_penalty', 'param_solver'])\n",
    "sns.heatmap(visual)\n",
    "plt.title('Тепловая карта зависимости метрики f1 от solver, penalty и С') # подпись графика\n",
    "sns.set(rc={'figure.figsize':(12, 8)}) #задаем размер графика"
   ]
  },
  {
   "cell_type": "markdown",
   "metadata": {},
   "source": [
    "Изучим область предполагаемого максимума метрики подробнее с помощью новой сетки."
   ]
  },
  {
   "cell_type": "code",
   "execution_count": 11,
   "metadata": {},
   "outputs": [
    {
     "name": "stdout",
     "output_type": "stream",
     "text": [
      "CPU times: total: 2.91 s\n",
      "Wall time: 18 s\n",
      "f1_score на тестовом наборе: 0.78\n",
      "Наилучшие значения гиперпараметров: {'C': 0.2, 'penalty': 'l1', 'solver': 'saga'}\n"
     ]
    },
    {
     "name": "stderr",
     "output_type": "stream",
     "text": [
      "c:\\Users\\ilyad\\AppData\\Local\\Programs\\Python\\Python311\\Lib\\site-packages\\sklearn\\linear_model\\_sag.py:349: ConvergenceWarning: The max_iter was reached which means the coef_ did not converge\n",
      "  warnings.warn(\n"
     ]
    }
   ],
   "source": [
    "param_grid = [{'penalty': ['l1'] , # тип регуляризации\n",
    "              'solver': ['saga', 'liblinear'], # алгоритм оптимизации\n",
    "               'C': [0.1, 0.2, 0.25, 0.3, 0.35, 0.4, 0.45, 0.5]}, # уровень силы регуляризации\n",
    "]\n",
    "grid_search_2 = GridSearchCV(\n",
    "    estimator=log_reg, \n",
    "    param_grid=param_grid,\n",
    "    scoring = 'f1', \n",
    "    cv=5, \n",
    "    n_jobs = -1\n",
    ")  \n",
    "%time grid_search_2.fit(X_train, y_train) \n",
    "y_test_pred = grid_search_2.predict(X_test)\n",
    "print('f1_score на тестовом наборе: {:.2f}'.format(metrics.f1_score(y_test, y_test_pred)))\n",
    "print(\"Наилучшие значения гиперпараметров: {}\".format(grid_search_2.best_params_))     "
   ]
  },
  {
   "cell_type": "code",
   "execution_count": 12,
   "metadata": {},
   "outputs": [
    {
     "data": {
      "text/html": [
       "<div>\n",
       "<style scoped>\n",
       "    .dataframe tbody tr th:only-of-type {\n",
       "        vertical-align: middle;\n",
       "    }\n",
       "\n",
       "    .dataframe tbody tr th {\n",
       "        vertical-align: top;\n",
       "    }\n",
       "\n",
       "    .dataframe thead th {\n",
       "        text-align: right;\n",
       "    }\n",
       "</style>\n",
       "<table border=\"1\" class=\"dataframe\">\n",
       "  <thead>\n",
       "    <tr style=\"text-align: right;\">\n",
       "      <th></th>\n",
       "      <th>mean_fit_time</th>\n",
       "      <th>std_fit_time</th>\n",
       "      <th>mean_score_time</th>\n",
       "      <th>std_score_time</th>\n",
       "      <th>param_C</th>\n",
       "      <th>param_penalty</th>\n",
       "      <th>param_solver</th>\n",
       "      <th>params</th>\n",
       "      <th>split0_test_score</th>\n",
       "      <th>split1_test_score</th>\n",
       "      <th>split2_test_score</th>\n",
       "      <th>split3_test_score</th>\n",
       "      <th>split4_test_score</th>\n",
       "      <th>mean_test_score</th>\n",
       "      <th>std_test_score</th>\n",
       "      <th>rank_test_score</th>\n",
       "    </tr>\n",
       "  </thead>\n",
       "  <tbody>\n",
       "    <tr>\n",
       "      <th>0</th>\n",
       "      <td>3.831415</td>\n",
       "      <td>0.183962</td>\n",
       "      <td>0.020637</td>\n",
       "      <td>0.003006</td>\n",
       "      <td>0.1</td>\n",
       "      <td>l1</td>\n",
       "      <td>saga</td>\n",
       "      <td>{'C': 0.1, 'penalty': 'l1', 'solver': 'saga'}</td>\n",
       "      <td>0.807692</td>\n",
       "      <td>0.799392</td>\n",
       "      <td>0.78056</td>\n",
       "      <td>0.772660</td>\n",
       "      <td>0.766412</td>\n",
       "      <td>0.785343</td>\n",
       "      <td>0.015742</td>\n",
       "      <td>15</td>\n",
       "    </tr>\n",
       "    <tr>\n",
       "      <th>1</th>\n",
       "      <td>0.395954</td>\n",
       "      <td>0.020026</td>\n",
       "      <td>0.026519</td>\n",
       "      <td>0.010173</td>\n",
       "      <td>0.1</td>\n",
       "      <td>l1</td>\n",
       "      <td>liblinear</td>\n",
       "      <td>{'C': 0.1, 'penalty': 'l1', 'solver': 'libline...</td>\n",
       "      <td>0.807122</td>\n",
       "      <td>0.804249</td>\n",
       "      <td>0.77037</td>\n",
       "      <td>0.773333</td>\n",
       "      <td>0.766412</td>\n",
       "      <td>0.784297</td>\n",
       "      <td>0.017624</td>\n",
       "      <td>16</td>\n",
       "    </tr>\n",
       "  </tbody>\n",
       "</table>\n",
       "</div>"
      ],
      "text/plain": [
       "   mean_fit_time  std_fit_time  mean_score_time  std_score_time  param_C  \\\n",
       "0       3.831415      0.183962         0.020637        0.003006      0.1   \n",
       "1       0.395954      0.020026         0.026519        0.010173      0.1   \n",
       "\n",
       "  param_penalty param_solver  \\\n",
       "0            l1         saga   \n",
       "1            l1    liblinear   \n",
       "\n",
       "                                              params  split0_test_score  \\\n",
       "0      {'C': 0.1, 'penalty': 'l1', 'solver': 'saga'}           0.807692   \n",
       "1  {'C': 0.1, 'penalty': 'l1', 'solver': 'libline...           0.807122   \n",
       "\n",
       "   split1_test_score  split2_test_score  split3_test_score  split4_test_score  \\\n",
       "0           0.799392            0.78056           0.772660           0.766412   \n",
       "1           0.804249            0.77037           0.773333           0.766412   \n",
       "\n",
       "   mean_test_score  std_test_score  rank_test_score  \n",
       "0         0.785343        0.015742               15  \n",
       "1         0.784297        0.017624               16  "
      ]
     },
     "execution_count": 12,
     "metadata": {},
     "output_type": "execute_result"
    }
   ],
   "source": [
    "# Результаты кросс-валидации\n",
    "result_cv = pd.DataFrame(grid_search_2.cv_results_)\n",
    "result_cv.head(2)"
   ]
  },
  {
   "cell_type": "code",
   "execution_count": 13,
   "metadata": {},
   "outputs": [
    {
     "data": {
      "image/png": "[encoded data removed]",
      "text/plain": [
       "<Figure size 1200x800 with 2 Axes>"
      ]
     },
     "metadata": {},
     "output_type": "display_data"
    }
   ],
   "source": [
    "# Отрисуем, как менялась точность при различных гиперпараметрах\n",
    "visual = pd.pivot_table(pd.DataFrame(grid_search_2.cv_results_),\n",
    "                        values='mean_test_score', index='param_C',\n",
    "                        columns=['param_penalty', 'param_solver'])\n",
    "sns.heatmap(visual)\n",
    "plt.title('Тепловая карта зависимости метрики f1 от solver, penalty и С') # подпись графика\n",
    "sns.set(rc={'figure.figsize':(12, 8)}) #задаем размер графика"
   ]
  },
  {
   "cell_type": "markdown",
   "metadata": {},
   "source": [
    ">Значения метрики *f1_score* на тестовом наборе не изменились, комбинация внешних параметров лучше, чем заданы по умолчанию не найдена."
   ]
  },
  {
   "cell_type": "markdown",
   "metadata": {},
   "source": [
    "#### **RandomizedSearchCV**\n",
    "\n",
    "Проведем поиск оптимальных параметров среди тех же значений, что и для *GridSearchCV*. Количество итераций выберем равным числу комбинаций параметров для *GridSearchCV*. Значительного выигрыша по времени не ожидается, но можно не использовать повторный поиск с более мелкой сеткой."
   ]
  },
  {
   "cell_type": "code",
   "execution_count": 14,
   "metadata": {},
   "outputs": [
    {
     "name": "stderr",
     "output_type": "stream",
     "text": [
      "c:\\Users\\ilyad\\AppData\\Local\\Programs\\Python\\Python311\\Lib\\site-packages\\sklearn\\model_selection\\_validation.py:540: FitFailedWarning: \n",
      "75 fits failed out of a total of 180.\n",
      "The score on these train-test partitions for these parameters will be set to nan.\n",
      "If these failures are not expected, you can try to debug them by setting error_score='raise'.\n",
      "\n",
      "Below are more details about the failures:\n",
      "--------------------------------------------------------------------------------\n",
      "13 fits failed with the following error:\n",
      "Traceback (most recent call last):\n",
      "  File \"c:\\Users\\ilyad\\AppData\\Local\\Programs\\Python\\Python311\\Lib\\site-packages\\sklearn\\model_selection\\_validation.py\", line 888, in _fit_and_score\n",
      "    estimator.fit(X_train, y_train, **fit_params)\n",
      "  File \"c:\\Users\\ilyad\\AppData\\Local\\Programs\\Python\\Python311\\Lib\\site-packages\\sklearn\\base.py\", line 1466, in wrapper\n",
      "    estimator._validate_params()\n",
      "  File \"c:\\Users\\ilyad\\AppData\\Local\\Programs\\Python\\Python311\\Lib\\site-packages\\sklearn\\base.py\", line 666, in _validate_params\n",
      "    validate_parameter_constraints(\n",
      "  File \"c:\\Users\\ilyad\\AppData\\Local\\Programs\\Python\\Python311\\Lib\\site-packages\\sklearn\\utils\\_param_validation.py\", line 95, in validate_parameter_constraints\n",
      "    raise InvalidParameterError(\n",
      "sklearn.utils._param_validation.InvalidParameterError: The 'penalty' parameter of LogisticRegression must be a str among {'l2', 'l1', 'elasticnet'} or None. Got 'none' instead.\n",
      "\n",
      "--------------------------------------------------------------------------------\n",
      "11 fits failed with the following error:\n",
      "Traceback (most recent call last):\n",
      "  File \"c:\\Users\\ilyad\\AppData\\Local\\Programs\\Python\\Python311\\Lib\\site-packages\\sklearn\\model_selection\\_validation.py\", line 888, in _fit_and_score\n",
      "    estimator.fit(X_train, y_train, **fit_params)\n",
      "  File \"c:\\Users\\ilyad\\AppData\\Local\\Programs\\Python\\Python311\\Lib\\site-packages\\sklearn\\base.py\", line 1466, in wrapper\n",
      "    estimator._validate_params()\n",
      "  File \"c:\\Users\\ilyad\\AppData\\Local\\Programs\\Python\\Python311\\Lib\\site-packages\\sklearn\\base.py\", line 666, in _validate_params\n",
      "    validate_parameter_constraints(\n",
      "  File \"c:\\Users\\ilyad\\AppData\\Local\\Programs\\Python\\Python311\\Lib\\site-packages\\sklearn\\utils\\_param_validation.py\", line 95, in validate_parameter_constraints\n",
      "    raise InvalidParameterError(\n",
      "sklearn.utils._param_validation.InvalidParameterError: The 'penalty' parameter of LogisticRegression must be a str among {'l1', 'elasticnet', 'l2'} or None. Got 'none' instead.\n",
      "\n",
      "--------------------------------------------------------------------------------\n",
      "9 fits failed with the following error:\n",
      "Traceback (most recent call last):\n",
      "  File \"c:\\Users\\ilyad\\AppData\\Local\\Programs\\Python\\Python311\\Lib\\site-packages\\sklearn\\model_selection\\_validation.py\", line 888, in _fit_and_score\n",
      "    estimator.fit(X_train, y_train, **fit_params)\n",
      "  File \"c:\\Users\\ilyad\\AppData\\Local\\Programs\\Python\\Python311\\Lib\\site-packages\\sklearn\\base.py\", line 1466, in wrapper\n",
      "    estimator._validate_params()\n",
      "  File \"c:\\Users\\ilyad\\AppData\\Local\\Programs\\Python\\Python311\\Lib\\site-packages\\sklearn\\base.py\", line 666, in _validate_params\n",
      "    validate_parameter_constraints(\n",
      "  File \"c:\\Users\\ilyad\\AppData\\Local\\Programs\\Python\\Python311\\Lib\\site-packages\\sklearn\\utils\\_param_validation.py\", line 95, in validate_parameter_constraints\n",
      "    raise InvalidParameterError(\n",
      "sklearn.utils._param_validation.InvalidParameterError: The 'penalty' parameter of LogisticRegression must be a str among {'elasticnet', 'l1', 'l2'} or None. Got 'none' instead.\n",
      "\n",
      "--------------------------------------------------------------------------------\n",
      "15 fits failed with the following error:\n",
      "Traceback (most recent call last):\n",
      "  File \"c:\\Users\\ilyad\\AppData\\Local\\Programs\\Python\\Python311\\Lib\\site-packages\\sklearn\\model_selection\\_validation.py\", line 888, in _fit_and_score\n",
      "    estimator.fit(X_train, y_train, **fit_params)\n",
      "  File \"c:\\Users\\ilyad\\AppData\\Local\\Programs\\Python\\Python311\\Lib\\site-packages\\sklearn\\base.py\", line 1466, in wrapper\n",
      "    estimator._validate_params()\n",
      "  File \"c:\\Users\\ilyad\\AppData\\Local\\Programs\\Python\\Python311\\Lib\\site-packages\\sklearn\\base.py\", line 666, in _validate_params\n",
      "    validate_parameter_constraints(\n",
      "  File \"c:\\Users\\ilyad\\AppData\\Local\\Programs\\Python\\Python311\\Lib\\site-packages\\sklearn\\utils\\_param_validation.py\", line 95, in validate_parameter_constraints\n",
      "    raise InvalidParameterError(\n",
      "sklearn.utils._param_validation.InvalidParameterError: The 'penalty' parameter of LogisticRegression must be a str among {'elasticnet', 'l2', 'l1'} or None. Got 'none' instead.\n",
      "\n",
      "--------------------------------------------------------------------------------\n",
      "18 fits failed with the following error:\n",
      "Traceback (most recent call last):\n",
      "  File \"c:\\Users\\ilyad\\AppData\\Local\\Programs\\Python\\Python311\\Lib\\site-packages\\sklearn\\model_selection\\_validation.py\", line 888, in _fit_and_score\n",
      "    estimator.fit(X_train, y_train, **fit_params)\n",
      "  File \"c:\\Users\\ilyad\\AppData\\Local\\Programs\\Python\\Python311\\Lib\\site-packages\\sklearn\\base.py\", line 1466, in wrapper\n",
      "    estimator._validate_params()\n",
      "  File \"c:\\Users\\ilyad\\AppData\\Local\\Programs\\Python\\Python311\\Lib\\site-packages\\sklearn\\base.py\", line 666, in _validate_params\n",
      "    validate_parameter_constraints(\n",
      "  File \"c:\\Users\\ilyad\\AppData\\Local\\Programs\\Python\\Python311\\Lib\\site-packages\\sklearn\\utils\\_param_validation.py\", line 95, in validate_parameter_constraints\n",
      "    raise InvalidParameterError(\n",
      "sklearn.utils._param_validation.InvalidParameterError: The 'penalty' parameter of LogisticRegression must be a str among {'l1', 'l2', 'elasticnet'} or None. Got 'none' instead.\n",
      "\n",
      "--------------------------------------------------------------------------------\n",
      "9 fits failed with the following error:\n",
      "Traceback (most recent call last):\n",
      "  File \"c:\\Users\\ilyad\\AppData\\Local\\Programs\\Python\\Python311\\Lib\\site-packages\\sklearn\\model_selection\\_validation.py\", line 888, in _fit_and_score\n",
      "    estimator.fit(X_train, y_train, **fit_params)\n",
      "  File \"c:\\Users\\ilyad\\AppData\\Local\\Programs\\Python\\Python311\\Lib\\site-packages\\sklearn\\base.py\", line 1466, in wrapper\n",
      "    estimator._validate_params()\n",
      "  File \"c:\\Users\\ilyad\\AppData\\Local\\Programs\\Python\\Python311\\Lib\\site-packages\\sklearn\\base.py\", line 666, in _validate_params\n",
      "    validate_parameter_constraints(\n",
      "  File \"c:\\Users\\ilyad\\AppData\\Local\\Programs\\Python\\Python311\\Lib\\site-packages\\sklearn\\utils\\_param_validation.py\", line 95, in validate_parameter_constraints\n",
      "    raise InvalidParameterError(\n",
      "sklearn.utils._param_validation.InvalidParameterError: The 'penalty' parameter of LogisticRegression must be a str among {'l2', 'elasticnet', 'l1'} or None. Got 'none' instead.\n",
      "\n",
      "  warnings.warn(some_fits_failed_message, FitFailedWarning)\n",
      "c:\\Users\\ilyad\\AppData\\Local\\Programs\\Python\\Python311\\Lib\\site-packages\\sklearn\\model_selection\\_search.py:1052: UserWarning: One or more of the test scores are non-finite: [       nan        nan 0.77941109 0.78940981 0.78376625        nan\n",
      "        nan 0.78910458        nan 0.78118038 0.78162978 0.77940228\n",
      " 0.77964432 0.78315714        nan 0.77430303 0.78006037        nan\n",
      "        nan        nan        nan 0.75772746        nan 0.77977812\n",
      " 0.77446388        nan 0.78015342        nan 0.77606228 0.78559647\n",
      "        nan 0.7720333         nan 0.77943899 0.78785511 0.7783381 ]\n",
      "  warnings.warn(\n"
     ]
    },
    {
     "name": "stdout",
     "output_type": "stream",
     "text": [
      "CPU times: total: 1.16 s\n",
      "Wall time: 20.4 s\n",
      "f1_score на тестовом наборе: 0.78\n",
      "Наилучшие значения гиперпараметров: {'solver': 'liblinear', 'penalty': 'l1', 'C': 0.45}\n"
     ]
    }
   ],
   "source": [
    "from sklearn.model_selection import RandomizedSearchCV\n",
    "\n",
    "param_distributions = [{'penalty': ['l1', 'l2', 'none'] , \n",
    "              'solver': ['saga'], \n",
    "               'C': list(np.linspace(0.01, 1, 10, dtype=float))}, \n",
    "                {'penalty': ['l2', 'none'] ,\n",
    "              'solver': ['lbfgs', 'sag'], \n",
    "               'C': list(np.linspace(0.01, 1, 10, dtype=float))}, \n",
    "               {'penalty': ['l1', 'l2'] ,\n",
    "              'solver': ['liblinear'],\n",
    "               'C': list(np.linspace(0.01, 1, 10, dtype=float))}]\n",
    "            \n",
    "random_search = RandomizedSearchCV(\n",
    "    estimator=log_reg, \n",
    "    param_distributions=param_distributions,\n",
    "    scoring = 'f1', \n",
    "    cv=5, \n",
    "    n_iter = 36, \n",
    "    n_jobs = -1\n",
    ")  \n",
    "%time random_search.fit(X_train, y_train) \n",
    "y_test_pred = random_search.predict(X_test)\n",
    "print('f1_score на тестовом наборе: {:.2f}'.format(metrics.f1_score(y_test, y_test_pred)))\n",
    "print(\"Наилучшие значения гиперпараметров: {}\".format(random_search.best_params_))"
   ]
  },
  {
   "cell_type": "markdown",
   "metadata": {},
   "source": [
    ">Метрику *f1_score* на тестовом наборе улучшить не удалось."
   ]
  },
  {
   "cell_type": "markdown",
   "metadata": {},
   "source": [
    "#### **Hyperopt**"
   ]
  },
  {
   "cell_type": "code",
   "execution_count": 15,
   "metadata": {},
   "outputs": [
    {
     "name": "stdout",
     "output_type": "stream",
     "text": [
      "Версия Hyperopt : 0.2.7\n"
     ]
    }
   ],
   "source": [
    "#делаем импорт и выведем версию библиотеки\n",
    "from sklearn.model_selection import cross_val_score\n",
    "import hyperopt\n",
    "from hyperopt import hp, fmin, tpe, Trials\n",
    "# fmin - основная функция, она будет минимизировать наш функционал\n",
    "# tpe - алгоритм оптимизации\n",
    "# hp - включает набор методов для объявления пространства поиска гиперпараметров\n",
    "# trails - используется для логирования результатов\n",
    "\n",
    "print(\"Версия Hyperopt : {}\".format(hyperopt.__version__))\n",
    "#Версия Hyperopt : 0.2.7"
   ]
  },
  {
   "cell_type": "markdown",
   "metadata": {},
   "source": [
    "Настроим оптимизацию гиперпараметров для алгоритма логистической регрессии."
   ]
  },
  {
   "cell_type": "code",
   "execution_count": 33,
   "metadata": {},
   "outputs": [],
   "source": [
    "# зададим пространство поиска гиперпараметров\n",
    "\n",
    "space = hp.choice('parameter_combinations', [\n",
    "        {'solver': 'saga',\n",
    "         'penalty': 'l1',\n",
    "         'C': hp.uniform('C_saga_l1', 0.01, 1)\n",
    "        },\n",
    "        {'solver': 'saga',\n",
    "         'penalty': 'l2',\n",
    "         'C': hp.uniform('C_saga_l2', 0.01, 1)\n",
    "        }, \n",
    "        {'solver': 'saga',\n",
    "         'penalty': None,\n",
    "         'C': hp.uniform('C_saga_none', 0.01, 1)\n",
    "        }, \n",
    "         \n",
    "        \n",
    "        {'solver': 'lbfgs',\n",
    "         'penalty':'l2',\n",
    "         'C': hp.uniform('C_lbfgs_l2', 0.01, 1)\n",
    "        },\n",
    "        {'solver':'lbfgs',\n",
    "         'penalty': None,\n",
    "         'C': hp.uniform('C_lbfgs_none', 0.01, 1)\n",
    "        },\n",
    "        \n",
    "        \n",
    "        {'solver':'sag',\n",
    "         'penalty': 'l2',\n",
    "         'C': hp.uniform('C_sag_l2', 0.01, 1)\n",
    "        },\n",
    "        {'solver': 'sag',\n",
    "         'penalty': None,\n",
    "         'C': hp.uniform('C_sag_none', 0.01, 1)\n",
    "        },\n",
    "        \n",
    "        \n",
    "        {'solver': 'liblinear',\n",
    "        'penalty': 'l1',\n",
    "        'C': hp.uniform('C_liblinear_l1', 0.01, 1)\n",
    "        },\n",
    "        {'solver': 'liblinear',\n",
    "        'penalty': 'l2',\n",
    "        'C': hp.uniform('C_liblinear_l2', 0.01, 1)\n",
    "        },\n",
    "        ]\n",
    ")"
   ]
  },
  {
   "cell_type": "code",
   "execution_count": 36,
   "metadata": {},
   "outputs": [],
   "source": [
    "random_state = 42\n",
    "\n",
    "def hyperopt_lr(params, cv=5, X=X_train, y=y_train, random_state=random_state):\n",
    "    params = {'solver': params['solver'], \n",
    "              'penalty': params['penalty'], \n",
    "              'C': params['C']\n",
    "             }\n",
    "      \n",
    "    model = linear_model.LogisticRegression(**params, random_state=random_state, max_iter=50)\n",
    "\n",
    "    # Обучаем модель с помощью кросс-валидации\n",
    "    score = cross_val_score(model, X, y, cv=cv, scoring='f1', n_jobs=-1).mean()\n",
    "\n",
    "    return -score"
   ]
  },
  {
   "cell_type": "code",
   "execution_count": 37,
   "metadata": {},
   "outputs": [
    {
     "name": "stdout",
     "output_type": "stream",
     "text": [
      "CPU times: total: 0 ns\n",
      "Wall time: 0 ns\n",
      "100%|██████████| 20/20 [00:37<00:00,  1.86s/trial, best loss: -0.787628046912189]\n",
      "Наилучшие значения гиперпараметров {'C_saga_l2': 0.08292441519601887, 'parameter_combinations': 1}\n"
     ]
    }
   ],
   "source": [
    "# начинаем подбор гиперпараметров\n",
    "%time \n",
    " \n",
    "trials = Trials() # используется для логирования результатов\n",
    "\n",
    "best=fmin(hyperopt_lr, # наша функция \n",
    "          space=space, # пространство гиперпараметров\n",
    "          algo=tpe.suggest, # алгоритм оптимизации, установлен по умолчанию, задавать необязательно\n",
    "          max_evals=20, # максимальное количество итераций\n",
    "          trials=trials, # логирование результатов\n",
    "          rstate=np.random.default_rng(random_state)# фиксируем для повторяемости результата\n",
    "          )\n",
    "print(\"Наилучшие значения гиперпараметров {}\".format(best))"
   ]
  },
  {
   "cell_type": "code",
   "execution_count": 38,
   "metadata": {},
   "outputs": [
    {
     "name": "stdout",
     "output_type": "stream",
     "text": [
      "f1_score на обучающем наборе: 0.85\n",
      "f1_score на тестовом наборе: 0.79\n"
     ]
    },
    {
     "name": "stderr",
     "output_type": "stream",
     "text": [
      "c:\\Users\\ilyad\\AppData\\Local\\Programs\\Python\\Python311\\Lib\\site-packages\\sklearn\\linear_model\\_sag.py:349: ConvergenceWarning: The max_iter was reached which means the coef_ did not converge\n",
      "  warnings.warn(\n"
     ]
    }
   ],
   "source": [
    "# рассчитаем точность для тестовой выборки\n",
    "model_HO_best = linear_model.LogisticRegression(\n",
    "    solver = 'saga', \n",
    "    penalty = 'l2',\n",
    "    C = 0.08292441519601887,\n",
    "    random_state=random_state, \n",
    "    max_iter=50\n",
    "    )\n",
    "model_HO_best.fit(X_train, y_train)\n",
    "y_train_pred = model_HO_best.predict(X_train)\n",
    "print('f1_score на обучающем наборе: {:.2f}'.format(metrics.f1_score(y_train, y_train_pred)))\n",
    "y_test_pred = model_HO_best.predict(X_test)\n",
    "print('f1_score на тестовом наборе: {:.2f}'.format(metrics.f1_score(y_test, y_test_pred)))"
   ]
  },
  {
   "cell_type": "markdown",
   "metadata": {},
   "source": [
    ">С помощью *Hyperopt* метрику *f1_score* на тестовом наборе удалось улучшить."
   ]
  },
  {
   "cell_type": "markdown",
   "metadata": {},
   "source": [
    "#### **Optuna**"
   ]
  },
  {
   "cell_type": "code",
   "execution_count": 40,
   "metadata": {},
   "outputs": [],
   "source": [
    "import optuna"
   ]
  },
  {
   "cell_type": "code",
   "execution_count": 41,
   "metadata": {},
   "outputs": [],
   "source": [
    "random_state = 42\n",
    "\n",
    "def optuna_lr(trial):\n",
    "    # пространство гиперпараметров\n",
    "    solver = trial.suggest_categorical('solver', ['saga', 'lbfgs', 'sag', 'liblinear'])\n",
    "    if solver == 'saga':\n",
    "        penalty = trial.suggest_categorical('penalty', ['l1', 'l2', 'none'])\n",
    "    else:\n",
    "        penalty = 'l2'\n",
    "        \n",
    "    C = trial.suggest_uniform('C', 0.01, 1)\n",
    "    \n",
    "    model = linear_model.LogisticRegression(\n",
    "        solver=solver,\n",
    "        penalty=penalty,\n",
    "        C=C,\n",
    "        random_state=random_state, \n",
    "        max_iter=50\n",
    "    )    \n",
    "    \n",
    "    # Обучаем модель с помощью кросс-валидации    \n",
    "    score = cross_val_score(\n",
    "        model, X_train, y_train, cv=5, scoring='f1', n_jobs=-1).mean()\n",
    "    \n",
    "    return score"
   ]
  },
  {
   "cell_type": "code",
   "execution_count": 42,
   "metadata": {},
   "outputs": [
    {
     "name": "stderr",
     "output_type": "stream",
     "text": [
      "[I 2024-08-27 22:06:14,225] A new study created in memory with name: LogisticRegression\n",
      "C:\\Users\\ilyad\\AppData\\Local\\Temp\\ipykernel_20820\\2058877683.py:11: FutureWarning: suggest_uniform has been deprecated in v3.0.0. This feature will be removed in v6.0.0. See https://github.com/optuna/optuna/releases/tag/v3.0.0. Use suggest_float instead.\n",
      "  C = trial.suggest_uniform('C', 0.01, 1)\n",
      "[I 2024-08-27 22:06:15,795] Trial 0 finished with value: 0.7834178997770478 and parameters: {'solver': 'lbfgs', 'C': 0.16445845403801215}. Best is trial 0 with value: 0.7834178997770478.\n",
      "C:\\Users\\ilyad\\AppData\\Local\\Temp\\ipykernel_20820\\2058877683.py:11: FutureWarning: suggest_uniform has been deprecated in v3.0.0. This feature will be removed in v6.0.0. See https://github.com/optuna/optuna/releases/tag/v3.0.0. Use suggest_float instead.\n",
      "  C = trial.suggest_uniform('C', 0.01, 1)\n",
      "[I 2024-08-27 22:06:18,444] Trial 1 finished with value: 0.7793051656527761 and parameters: {'solver': 'sag', 'C': 0.710991852018085}. Best is trial 0 with value: 0.7834178997770478.\n",
      "C:\\Users\\ilyad\\AppData\\Local\\Temp\\ipykernel_20820\\2058877683.py:11: FutureWarning: suggest_uniform has been deprecated in v3.0.0. This feature will be removed in v6.0.0. See https://github.com/optuna/optuna/releases/tag/v3.0.0. Use suggest_float instead.\n",
      "  C = trial.suggest_uniform('C', 0.01, 1)\n",
      "[I 2024-08-27 22:06:20,017] Trial 2 finished with value: 0.7814287466066778 and parameters: {'solver': 'lbfgs', 'C': 0.19000671753502962}. Best is trial 0 with value: 0.7834178997770478.\n",
      "C:\\Users\\ilyad\\AppData\\Local\\Temp\\ipykernel_20820\\2058877683.py:11: FutureWarning: suggest_uniform has been deprecated in v3.0.0. This feature will be removed in v6.0.0. See https://github.com/optuna/optuna/releases/tag/v3.0.0. Use suggest_float instead.\n",
      "  C = trial.suggest_uniform('C', 0.01, 1)\n",
      "[I 2024-08-27 22:06:22,164] Trial 3 finished with value: 0.7784773740869497 and parameters: {'solver': 'sag', 'C': 0.2983168487960615}. Best is trial 0 with value: 0.7834178997770478.\n",
      "C:\\Users\\ilyad\\AppData\\Local\\Temp\\ipykernel_20820\\2058877683.py:11: FutureWarning: suggest_uniform has been deprecated in v3.0.0. This feature will be removed in v6.0.0. See https://github.com/optuna/optuna/releases/tag/v3.0.0. Use suggest_float instead.\n",
      "  C = trial.suggest_uniform('C', 0.01, 1)\n",
      "[I 2024-08-27 22:06:24,302] Trial 4 finished with value: 0.7796530883762235 and parameters: {'solver': 'saga', 'penalty': 'l2', 'C': 0.5190920940294755}. Best is trial 0 with value: 0.7834178997770478.\n",
      "C:\\Users\\ilyad\\AppData\\Local\\Temp\\ipykernel_20820\\2058877683.py:11: FutureWarning: suggest_uniform has been deprecated in v3.0.0. This feature will be removed in v6.0.0. See https://github.com/optuna/optuna/releases/tag/v3.0.0. Use suggest_float instead.\n",
      "  C = trial.suggest_uniform('C', 0.01, 1)\n",
      "[I 2024-08-27 22:06:26,350] Trial 5 finished with value: 0.7886791388489908 and parameters: {'solver': 'sag', 'C': 0.07440107705542671}. Best is trial 5 with value: 0.7886791388489908.\n",
      "C:\\Users\\ilyad\\AppData\\Local\\Temp\\ipykernel_20820\\2058877683.py:11: FutureWarning: suggest_uniform has been deprecated in v3.0.0. This feature will be removed in v6.0.0. See https://github.com/optuna/optuna/releases/tag/v3.0.0. Use suggest_float instead.\n",
      "  C = trial.suggest_uniform('C', 0.01, 1)\n",
      "[I 2024-08-27 22:06:27,732] Trial 6 finished with value: 0.7854048992368717 and parameters: {'solver': 'lbfgs', 'C': 0.10669539286632003}. Best is trial 5 with value: 0.7886791388489908.\n",
      "C:\\Users\\ilyad\\AppData\\Local\\Temp\\ipykernel_20820\\2058877683.py:11: FutureWarning: suggest_uniform has been deprecated in v3.0.0. This feature will be removed in v6.0.0. See https://github.com/optuna/optuna/releases/tag/v3.0.0. Use suggest_float instead.\n",
      "  C = trial.suggest_uniform('C', 0.01, 1)\n",
      "[I 2024-08-27 22:06:29,835] Trial 7 finished with value: 0.7791666903993274 and parameters: {'solver': 'saga', 'penalty': 'l2', 'C': 0.6658970615104421}. Best is trial 5 with value: 0.7886791388489908.\n",
      "C:\\Users\\ilyad\\AppData\\Local\\Temp\\ipykernel_20820\\2058877683.py:11: FutureWarning: suggest_uniform has been deprecated in v3.0.0. This feature will be removed in v6.0.0. See https://github.com/optuna/optuna/releases/tag/v3.0.0. Use suggest_float instead.\n",
      "  C = trial.suggest_uniform('C', 0.01, 1)\n",
      "[I 2024-08-27 22:06:31,653] Trial 8 finished with value: 0.7795521582233507 and parameters: {'solver': 'sag', 'C': 0.9698887814869129}. Best is trial 5 with value: 0.7886791388489908.\n",
      "C:\\Users\\ilyad\\AppData\\Local\\Temp\\ipykernel_20820\\2058877683.py:11: FutureWarning: suggest_uniform has been deprecated in v3.0.0. This feature will be removed in v6.0.0. See https://github.com/optuna/optuna/releases/tag/v3.0.0. Use suggest_float instead.\n",
      "  C = trial.suggest_uniform('C', 0.01, 1)\n",
      "[I 2024-08-27 22:06:32,839] Trial 9 finished with value: 0.7713060285701678 and parameters: {'solver': 'lbfgs', 'C': 0.9226554926728857}. Best is trial 5 with value: 0.7886791388489908.\n",
      "C:\\Users\\ilyad\\AppData\\Local\\Temp\\ipykernel_20820\\2058877683.py:11: FutureWarning: suggest_uniform has been deprecated in v3.0.0. This feature will be removed in v6.0.0. See https://github.com/optuna/optuna/releases/tag/v3.0.0. Use suggest_float instead.\n",
      "  C = trial.suggest_uniform('C', 0.01, 1)\n",
      "[I 2024-08-27 22:06:33,365] Trial 10 finished with value: 0.790609157811635 and parameters: {'solver': 'liblinear', 'C': 0.01593721112625901}. Best is trial 10 with value: 0.790609157811635.\n",
      "C:\\Users\\ilyad\\AppData\\Local\\Temp\\ipykernel_20820\\2058877683.py:11: FutureWarning: suggest_uniform has been deprecated in v3.0.0. This feature will be removed in v6.0.0. See https://github.com/optuna/optuna/releases/tag/v3.0.0. Use suggest_float instead.\n",
      "  C = trial.suggest_uniform('C', 0.01, 1)\n",
      "[I 2024-08-27 22:06:33,929] Trial 11 finished with value: 0.7908379790380126 and parameters: {'solver': 'liblinear', 'C': 0.015244149605851996}. Best is trial 11 with value: 0.7908379790380126.\n",
      "C:\\Users\\ilyad\\AppData\\Local\\Temp\\ipykernel_20820\\2058877683.py:11: FutureWarning: suggest_uniform has been deprecated in v3.0.0. This feature will be removed in v6.0.0. See https://github.com/optuna/optuna/releases/tag/v3.0.0. Use suggest_float instead.\n",
      "  C = trial.suggest_uniform('C', 0.01, 1)\n",
      "[I 2024-08-27 22:06:34,724] Trial 12 finished with value: 0.7772516768896305 and parameters: {'solver': 'liblinear', 'C': 0.3504288686718846}. Best is trial 11 with value: 0.7908379790380126.\n",
      "C:\\Users\\ilyad\\AppData\\Local\\Temp\\ipykernel_20820\\2058877683.py:11: FutureWarning: suggest_uniform has been deprecated in v3.0.0. This feature will be removed in v6.0.0. See https://github.com/optuna/optuna/releases/tag/v3.0.0. Use suggest_float instead.\n",
      "  C = trial.suggest_uniform('C', 0.01, 1)\n",
      "[I 2024-08-27 22:06:35,289] Trial 13 finished with value: 0.7911749231867715 and parameters: {'solver': 'liblinear', 'C': 0.020783734592853022}. Best is trial 13 with value: 0.7911749231867715.\n",
      "C:\\Users\\ilyad\\AppData\\Local\\Temp\\ipykernel_20820\\2058877683.py:11: FutureWarning: suggest_uniform has been deprecated in v3.0.0. This feature will be removed in v6.0.0. See https://github.com/optuna/optuna/releases/tag/v3.0.0. Use suggest_float instead.\n",
      "  C = trial.suggest_uniform('C', 0.01, 1)\n",
      "[I 2024-08-27 22:06:36,126] Trial 14 finished with value: 0.7773860802149837 and parameters: {'solver': 'liblinear', 'C': 0.34135357549770723}. Best is trial 13 with value: 0.7911749231867715.\n",
      "C:\\Users\\ilyad\\AppData\\Local\\Temp\\ipykernel_20820\\2058877683.py:11: FutureWarning: suggest_uniform has been deprecated in v3.0.0. This feature will be removed in v6.0.0. See https://github.com/optuna/optuna/releases/tag/v3.0.0. Use suggest_float instead.\n",
      "  C = trial.suggest_uniform('C', 0.01, 1)\n",
      "[I 2024-08-27 22:06:36,858] Trial 15 finished with value: 0.7791966528547652 and parameters: {'solver': 'liblinear', 'C': 0.2531652323662312}. Best is trial 13 with value: 0.7911749231867715.\n",
      "C:\\Users\\ilyad\\AppData\\Local\\Temp\\ipykernel_20820\\2058877683.py:11: FutureWarning: suggest_uniform has been deprecated in v3.0.0. This feature will be removed in v6.0.0. See https://github.com/optuna/optuna/releases/tag/v3.0.0. Use suggest_float instead.\n",
      "  C = trial.suggest_uniform('C', 0.01, 1)\n",
      "[I 2024-08-27 22:06:37,614] Trial 16 finished with value: 0.7786966068976742 and parameters: {'solver': 'liblinear', 'C': 0.44001270903884715}. Best is trial 13 with value: 0.7911749231867715.\n",
      "C:\\Users\\ilyad\\AppData\\Local\\Temp\\ipykernel_20820\\2058877683.py:11: FutureWarning: suggest_uniform has been deprecated in v3.0.0. This feature will be removed in v6.0.0. See https://github.com/optuna/optuna/releases/tag/v3.0.0. Use suggest_float instead.\n",
      "  C = trial.suggest_uniform('C', 0.01, 1)\n",
      "[I 2024-08-27 22:06:38,148] Trial 17 finished with value: 0.7925778470843666 and parameters: {'solver': 'liblinear', 'C': 0.029834922551910444}. Best is trial 17 with value: 0.7925778470843666.\n",
      "C:\\Users\\ilyad\\AppData\\Local\\Temp\\ipykernel_20820\\2058877683.py:11: FutureWarning: suggest_uniform has been deprecated in v3.0.0. This feature will be removed in v6.0.0. See https://github.com/optuna/optuna/releases/tag/v3.0.0. Use suggest_float instead.\n",
      "  C = trial.suggest_uniform('C', 0.01, 1)\n",
      "[I 2024-08-27 22:06:38,969] Trial 18 finished with value: 0.7813216668290741 and parameters: {'solver': 'liblinear', 'C': 0.5334038771422204}. Best is trial 17 with value: 0.7925778470843666.\n",
      "C:\\Users\\ilyad\\AppData\\Local\\Temp\\ipykernel_20820\\2058877683.py:11: FutureWarning: suggest_uniform has been deprecated in v3.0.0. This feature will be removed in v6.0.0. See https://github.com/optuna/optuna/releases/tag/v3.0.0. Use suggest_float instead.\n",
      "  C = trial.suggest_uniform('C', 0.01, 1)\n",
      "[I 2024-08-27 22:06:39,655] Trial 19 finished with value: 0.7824588808976449 and parameters: {'solver': 'liblinear', 'C': 0.15265035504437763}. Best is trial 17 with value: 0.7925778470843666.\n"
     ]
    }
   ],
   "source": [
    "# Поиск оптимальных гиперпараметров\n",
    "sampler = optuna.samplers.TPESampler(seed=random_state)\n",
    "study_lr = optuna.create_study(\n",
    "    sampler=sampler, study_name='LogisticRegression', direction='maximize')\n",
    "study_lr.optimize(optuna_lr, n_trials=20)"
   ]
  },
  {
   "cell_type": "code",
   "execution_count": 43,
   "metadata": {},
   "outputs": [
    {
     "name": "stderr",
     "output_type": "stream",
     "text": [
      "c:\\Users\\ilyad\\AppData\\Local\\Programs\\Python\\Python311\\Lib\\site-packages\\sklearn\\linear_model\\_logistic.py:1271: UserWarning: 'n_jobs' > 1 does not have any effect when 'solver' is set to 'liblinear'. Got 'n_jobs' = 12.\n",
      "  warnings.warn(\n"
     ]
    }
   ],
   "source": [
    "# Модель с лучшими параметрами\n",
    "optuna_lr = linear_model.LogisticRegression(\n",
    "    **study_lr.best_params,  n_jobs=-1,\n",
    "    random_state=random_state, max_iter=50\n",
    ")\n",
    "optuna_lr.fit(X_train, y_train)\n",
    "y_train_pred = optuna_lr.predict(X_train)\n",
    "y_test_pred = optuna_lr.predict(X_test)"
   ]
  },
  {
   "cell_type": "code",
   "execution_count": 44,
   "metadata": {},
   "outputs": [
    {
     "name": "stdout",
     "output_type": "stream",
     "text": [
      "Наилучшие значения гиперпараметров: {'solver': 'liblinear', 'C': 0.029834922551910444}\n",
      "f1_score на обучающем наборе: 0.84\n",
      "f1_score на тестовом наборе: 0.78\n"
     ]
    }
   ],
   "source": [
    "print(f'Наилучшие значения гиперпараметров: {study_lr.best_params}')\n",
    "print('f1_score на обучающем наборе: {:.2f}'.format(metrics.f1_score(y_train, y_train_pred)))\n",
    "print('f1_score на тестовом наборе: {:.2f}'.format(metrics.f1_score(y_test, y_test_pred)))"
   ]
  },
  {
   "cell_type": "markdown",
   "metadata": {},
   "source": [
    ">С помощью *Optuna* метрику *f1_score* на тестовом наборе улучшить не удалось."
   ]
  },
  {
   "cell_type": "markdown",
   "metadata": {},
   "source": [
    "#### **Случайный лес**\n",
    "\n",
    "Проделаем аналогичные действия для `RandomForestClassifier()`. Сначала посчитаем модель с параметрами по умолчанию и оценим метрику:"
   ]
  },
  {
   "cell_type": "code",
   "execution_count": 45,
   "metadata": {},
   "outputs": [
    {
     "name": "stdout",
     "output_type": "stream",
     "text": [
      "f1_score на обучающем наборе: 1.00\n",
      "f1_score на тестовом наборе: 0.80\n"
     ]
    }
   ],
   "source": [
    "#Создаем объект класса случайный лес\n",
    "rf = ensemble.RandomForestClassifier(random_state=42)\n",
    "\n",
    "#Обучаем модель\n",
    "rf.fit(X_train, y_train)\n",
    "#Выводим значения метрики \n",
    "y_train_pred = rf.predict(X_train)\n",
    "print('f1_score на обучающем наборе: {:.2f}'.format(metrics.f1_score(y_train, y_train_pred)))\n",
    "y_test_pred = rf.predict(X_test)\n",
    "print('f1_score на тестовом наборе: {:.2f}'.format(metrics.f1_score(y_test, y_test_pred)))"
   ]
  },
  {
   "cell_type": "markdown",
   "metadata": {},
   "source": [
    "#### **GridSearchCV**"
   ]
  },
  {
   "cell_type": "code",
   "execution_count": 46,
   "metadata": {},
   "outputs": [
    {
     "name": "stdout",
     "output_type": "stream",
     "text": [
      "CPU times: total: 5.8 s\n",
      "Wall time: 2min 39s\n",
      "f1_score на обучающем наборе: 0.93\n",
      "f1_score на тестовом наборе: 0.80\n",
      "Наилучшие значения гиперпараметров: {'max_depth': 30, 'min_samples_leaf': 6, 'n_estimators': 300}\n"
     ]
    }
   ],
   "source": [
    "# Сетка параметров\n",
    "param_grid = {'n_estimators': list(range(100, 400, 100)),\n",
    "              'min_samples_leaf': list(range(4, 10, 2)),\n",
    "              'max_depth': list(np.linspace(5, 50, 10, dtype=int))\n",
    "              }\n",
    "# Поиск по сетке параметров с кросс-валидацией             \n",
    "grid_search_forest = GridSearchCV(\n",
    "    estimator=ensemble.RandomForestClassifier(random_state=42), \n",
    "    param_grid=param_grid, \n",
    "    cv=5, \n",
    "    n_jobs = -1\n",
    ")  \n",
    "%time grid_search_forest.fit(X_train, y_train) \n",
    "y_train_pred = grid_search_forest.predict(X_train)\n",
    "print('f1_score на обучающем наборе: {:.2f}'.format(metrics.f1_score(y_train, y_train_pred)))\n",
    "y_test_pred = grid_search_forest.predict(X_test)\n",
    "print('f1_score на тестовом наборе: {:.2f}'.format(metrics.f1_score(y_test, y_test_pred)))\n",
    "print(\"Наилучшие значения гиперпараметров: {}\".format(grid_search_forest.best_params_))"
   ]
  },
  {
   "cell_type": "markdown",
   "metadata": {},
   "source": [
    ">Значения метрики *f1_score* на тестовом наборе не изменились, комбинация внешних параметров лучше, чем заданы по умолчанию не найдена."
   ]
  },
  {
   "cell_type": "markdown",
   "metadata": {},
   "source": [
    "#### **RandomizedSearchCV**\n",
    "\n",
    "Проведем поиск оптимальных параметров среди тех же значений, что и для *GridSearchCV*."
   ]
  },
  {
   "cell_type": "code",
   "execution_count": 47,
   "metadata": {},
   "outputs": [
    {
     "name": "stdout",
     "output_type": "stream",
     "text": [
      "CPU times: total: 3.66 s\n",
      "Wall time: 35.6 s\n",
      "f1_score на обучающем наборе: 0.93\n",
      "f1_score на тестовом наборе: 0.80\n",
      "Наилучшие значения гиперпараметров: {'n_estimators': 300, 'min_samples_leaf': 6, 'max_depth': 35}\n"
     ]
    }
   ],
   "source": [
    "# Сетка параметров\n",
    "param_distributions = {'n_estimators': list(range(100, 400, 100)),\n",
    "              'min_samples_leaf': list(range(4, 10, 2)),\n",
    "              'max_depth': list(np.linspace(5, 50, 10, dtype=int))\n",
    "              }\n",
    "\n",
    "# Поиск по сетке параметров с кросс-валидацией            \n",
    "random_search_forest = RandomizedSearchCV(\n",
    "    estimator=ensemble.RandomForestClassifier(random_state=42), \n",
    "    param_distributions=param_distributions, \n",
    "    cv=5,\n",
    "    n_iter = 20, \n",
    "    n_jobs = -1\n",
    ")  \n",
    "%time random_search_forest.fit(X_train, y_train) \n",
    "y_train_pred = random_search_forest.predict(X_train)\n",
    "print('f1_score на обучающем наборе: {:.2f}'.format(metrics.f1_score(y_train, y_train_pred)))\n",
    "y_test_pred = random_search_forest.predict(X_test)\n",
    "print('f1_score на тестовом наборе: {:.2f}'.format(metrics.f1_score(y_test, y_test_pred)))\n",
    "print(\"Наилучшие значения гиперпараметров: {}\".format(random_search_forest.best_params_))"
   ]
  },
  {
   "cell_type": "markdown",
   "metadata": {},
   "source": [
    ">Значения метрики *f1_score* на тестовом наборе не изменились, комбинация внешних параметров лучше, чем заданы по умолчанию не найдена."
   ]
  },
  {
   "cell_type": "markdown",
   "metadata": {},
   "source": [
    "#### **Hyperopt**\n",
    "\n",
    "Настроим оптимизацию гиперпараметров для алгоритма случайного леса."
   ]
  },
  {
   "cell_type": "code",
   "execution_count": 48,
   "metadata": {},
   "outputs": [],
   "source": [
    "# зададим пространство поиска гиперпараметров\n",
    "space={'n_estimators': hp.quniform('n_estimators', 100, 400, 10),\n",
    "       'max_depth' : hp.quniform('max_depth', 5, 50, 10),\n",
    "       'min_samples_leaf': hp.quniform('min_samples_leaf', 4, 10, 1)\n",
    "      }"
   ]
  },
  {
   "cell_type": "code",
   "execution_count": 49,
   "metadata": {},
   "outputs": [],
   "source": [
    "# зафиксируем random_state\n",
    "random_state = 42\n",
    "def hyperopt_rf(params, cv=5, X=X_train, y=y_train, random_state=random_state):\n",
    "    # функция получает комбинацию гиперпараметров в \"params\"\n",
    "    params = {'n_estimators': int(params['n_estimators']), \n",
    "              'max_depth': int(params['max_depth']), \n",
    "             'min_samples_leaf': int(params['min_samples_leaf'])\n",
    "              }\n",
    "  \n",
    "    # используем эту комбинацию для построения модели\n",
    "    model = ensemble.RandomForestClassifier(**params, \n",
    "                                            random_state=random_state,\n",
    "                                            n_jobs=-1\n",
    "                                            )\n",
    "\n",
    "    \n",
    "    # Обучаем модель с помощью кросс-валидации    \n",
    "    score = cross_val_score(model, X, y, cv=cv, scoring='f1', n_jobs=-1).mean()\n",
    "    # метрику необходимо минимизировать, поэтому ставим знак минус\n",
    "    return -score"
   ]
  },
  {
   "cell_type": "code",
   "execution_count": 50,
   "metadata": {},
   "outputs": [
    {
     "name": "stdout",
     "output_type": "stream",
     "text": [
      "CPU times: total: 0 ns\n",
      "Wall time: 0 ns\n",
      "100%|██████████| 20/20 [00:38<00:00,  1.94s/trial, best loss: -0.8124706654030968]\n",
      "Наилучшие значения гиперпараметров {'max_depth': 20.0, 'min_samples_leaf': 4.0, 'n_estimators': 110.0}\n"
     ]
    }
   ],
   "source": [
    "# начинаем подбор гиперпараметров\n",
    "%time \n",
    " \n",
    "trials = Trials() # используется для логирования результатов\n",
    "\n",
    "best=fmin(hyperopt_rf, # наша функция \n",
    "          space=space, # пространство гиперпараметров\n",
    "          algo=tpe.suggest, # алгоритм оптимизации, установлен по умолчанию, задавать необязательно\n",
    "          max_evals=20, # максимальное количество итераций\n",
    "          trials=trials, # логирование результатов\n",
    "          rstate=np.random.default_rng(random_state)# фиксируем для повторяемости результата\n",
    "          # rstate=np.random.default_rng(random_state)\n",
    "         )\n",
    "print(\"Наилучшие значения гиперпараметров {}\".format(best))"
   ]
  },
  {
   "cell_type": "code",
   "execution_count": 51,
   "metadata": {},
   "outputs": [
    {
     "name": "stdout",
     "output_type": "stream",
     "text": [
      "f1_score на обучающем наборе: 0.96\n",
      "f1_score на тестовом наборе: 0.80\n"
     ]
    }
   ],
   "source": [
    "# рассчитаем точность для тестовой выборки\n",
    "model = ensemble.RandomForestClassifier(\n",
    "    random_state=random_state, \n",
    "    n_estimators=int(best['n_estimators']),\n",
    "    max_depth=int(best['max_depth']),\n",
    "    min_samples_leaf=int(best['min_samples_leaf'])\n",
    ")\n",
    "model.fit(X_train, y_train)\n",
    "y_train_pred = model.predict(X_train)\n",
    "print('f1_score на обучающем наборе: {:.2f}'.format(metrics.f1_score(y_train, y_train_pred)))\n",
    "y_test_pred = model.predict(X_test)\n",
    "print('f1_score на тестовом наборе: {:.2f}'.format(metrics.f1_score(y_test, y_test_pred)))"
   ]
  },
  {
   "cell_type": "markdown",
   "metadata": {},
   "source": [
    ">Значения метрики *f1_score* на тестовом наборе не изменились, комбинация внешних параметров лучше, чем заданы по умолчанию не найдена."
   ]
  },
  {
   "cell_type": "markdown",
   "metadata": {},
   "source": [
    "#### **Optuna**"
   ]
  },
  {
   "cell_type": "code",
   "execution_count": 52,
   "metadata": {},
   "outputs": [],
   "source": [
    "random_state = 42\n",
    "\n",
    "def optuna_rf(trial):\n",
    "  # задаем пространства поиска гиперпараметров\n",
    "    n_estimators = trial.suggest_int('n_estimators', 100, 400, 10)\n",
    "    max_depth = trial.suggest_int('max_depth', 5, 50, 10)\n",
    "    min_samples_leaf = trial.suggest_int('min_samples_leaf', 4, 10, 1)\n",
    "\n",
    "  # создаем модель\n",
    "    model = ensemble.RandomForestClassifier(n_estimators=n_estimators,\n",
    "                                          max_depth=max_depth,\n",
    "                                          min_samples_leaf=min_samples_leaf,\n",
    "                                          n_jobs=-1,\n",
    "                                          random_state=random_state)\n",
    "  # Обучаем модель с помощью кросс-валидации    \n",
    "    score = cross_val_score(\n",
    "        model, X_train, y_train, cv=5, scoring='f1', n_jobs=-1).mean()\n",
    "    return score"
   ]
  },
  {
   "cell_type": "code",
   "execution_count": 53,
   "metadata": {},
   "outputs": [
    {
     "name": "stderr",
     "output_type": "stream",
     "text": [
      "[I 2024-08-27 22:11:56,552] A new study created in memory with name: RandomForestClassifier\n",
      "C:\\Users\\ilyad\\AppData\\Local\\Temp\\ipykernel_20820\\718936349.py:5: FutureWarning: suggest_int() got {'step'} as positional arguments but they were expected to be given as keyword arguments.\n",
      "  n_estimators = trial.suggest_int('n_estimators', 100, 400, 10)\n",
      "C:\\Users\\ilyad\\AppData\\Local\\Temp\\ipykernel_20820\\718936349.py:6: FutureWarning: suggest_int() got {'step'} as positional arguments but they were expected to be given as keyword arguments.\n",
      "  max_depth = trial.suggest_int('max_depth', 5, 50, 10)\n",
      "c:\\Users\\ilyad\\AppData\\Local\\Programs\\Python\\Python311\\Lib\\site-packages\\optuna\\distributions.py:700: UserWarning: The distribution is specified by [5, 50] and step=10, but the range is not divisible by `step`. It will be replaced by [5, 45].\n",
      "  warnings.warn(\n",
      "C:\\Users\\ilyad\\AppData\\Local\\Temp\\ipykernel_20820\\718936349.py:7: FutureWarning: suggest_int() got {'step'} as positional arguments but they were expected to be given as keyword arguments.\n",
      "  min_samples_leaf = trial.suggest_int('min_samples_leaf', 4, 10, 1)\n",
      "[I 2024-08-27 22:11:58,437] Trial 0 finished with value: 0.808715793761546 and parameters: {'n_estimators': 210, 'max_depth': 45, 'min_samples_leaf': 9}. Best is trial 0 with value: 0.808715793761546.\n",
      "C:\\Users\\ilyad\\AppData\\Local\\Temp\\ipykernel_20820\\718936349.py:5: FutureWarning: suggest_int() got {'step'} as positional arguments but they were expected to be given as keyword arguments.\n",
      "  n_estimators = trial.suggest_int('n_estimators', 100, 400, 10)\n",
      "C:\\Users\\ilyad\\AppData\\Local\\Temp\\ipykernel_20820\\718936349.py:6: FutureWarning: suggest_int() got {'step'} as positional arguments but they were expected to be given as keyword arguments.\n",
      "  max_depth = trial.suggest_int('max_depth', 5, 50, 10)\n",
      "c:\\Users\\ilyad\\AppData\\Local\\Programs\\Python\\Python311\\Lib\\site-packages\\optuna\\distributions.py:700: UserWarning: The distribution is specified by [5, 50] and step=10, but the range is not divisible by `step`. It will be replaced by [5, 45].\n",
      "  warnings.warn(\n",
      "C:\\Users\\ilyad\\AppData\\Local\\Temp\\ipykernel_20820\\718936349.py:7: FutureWarning: suggest_int() got {'step'} as positional arguments but they were expected to be given as keyword arguments.\n",
      "  min_samples_leaf = trial.suggest_int('min_samples_leaf', 4, 10, 1)\n",
      "[I 2024-08-27 22:11:59,950] Trial 1 finished with value: 0.7661087259188778 and parameters: {'n_estimators': 280, 'max_depth': 5, 'min_samples_leaf': 5}. Best is trial 0 with value: 0.808715793761546.\n",
      "C:\\Users\\ilyad\\AppData\\Local\\Temp\\ipykernel_20820\\718936349.py:5: FutureWarning: suggest_int() got {'step'} as positional arguments but they were expected to be given as keyword arguments.\n",
      "  n_estimators = trial.suggest_int('n_estimators', 100, 400, 10)\n",
      "C:\\Users\\ilyad\\AppData\\Local\\Temp\\ipykernel_20820\\718936349.py:6: FutureWarning: suggest_int() got {'step'} as positional arguments but they were expected to be given as keyword arguments.\n",
      "  max_depth = trial.suggest_int('max_depth', 5, 50, 10)\n",
      "c:\\Users\\ilyad\\AppData\\Local\\Programs\\Python\\Python311\\Lib\\site-packages\\optuna\\distributions.py:700: UserWarning: The distribution is specified by [5, 50] and step=10, but the range is not divisible by `step`. It will be replaced by [5, 45].\n",
      "  warnings.warn(\n",
      "C:\\Users\\ilyad\\AppData\\Local\\Temp\\ipykernel_20820\\718936349.py:7: FutureWarning: suggest_int() got {'step'} as positional arguments but they were expected to be given as keyword arguments.\n",
      "  min_samples_leaf = trial.suggest_int('min_samples_leaf', 4, 10, 1)\n",
      "[I 2024-08-27 22:12:01,168] Trial 2 finished with value: 0.8042089648798179 and parameters: {'n_estimators': 110, 'max_depth': 45, 'min_samples_leaf': 8}. Best is trial 0 with value: 0.808715793761546.\n",
      "C:\\Users\\ilyad\\AppData\\Local\\Temp\\ipykernel_20820\\718936349.py:5: FutureWarning: suggest_int() got {'step'} as positional arguments but they were expected to be given as keyword arguments.\n",
      "  n_estimators = trial.suggest_int('n_estimators', 100, 400, 10)\n",
      "C:\\Users\\ilyad\\AppData\\Local\\Temp\\ipykernel_20820\\718936349.py:6: FutureWarning: suggest_int() got {'step'} as positional arguments but they were expected to be given as keyword arguments.\n",
      "  max_depth = trial.suggest_int('max_depth', 5, 50, 10)\n",
      "c:\\Users\\ilyad\\AppData\\Local\\Programs\\Python\\Python311\\Lib\\site-packages\\optuna\\distributions.py:700: UserWarning: The distribution is specified by [5, 50] and step=10, but the range is not divisible by `step`. It will be replaced by [5, 45].\n",
      "  warnings.warn(\n",
      "C:\\Users\\ilyad\\AppData\\Local\\Temp\\ipykernel_20820\\718936349.py:7: FutureWarning: suggest_int() got {'step'} as positional arguments but they were expected to be given as keyword arguments.\n",
      "  min_samples_leaf = trial.suggest_int('min_samples_leaf', 4, 10, 1)\n",
      "[I 2024-08-27 22:12:02,507] Trial 3 finished with value: 0.7665822027859596 and parameters: {'n_estimators': 310, 'max_depth': 5, 'min_samples_leaf': 10}. Best is trial 0 with value: 0.808715793761546.\n",
      "C:\\Users\\ilyad\\AppData\\Local\\Temp\\ipykernel_20820\\718936349.py:5: FutureWarning: suggest_int() got {'step'} as positional arguments but they were expected to be given as keyword arguments.\n",
      "  n_estimators = trial.suggest_int('n_estimators', 100, 400, 10)\n",
      "C:\\Users\\ilyad\\AppData\\Local\\Temp\\ipykernel_20820\\718936349.py:6: FutureWarning: suggest_int() got {'step'} as positional arguments but they were expected to be given as keyword arguments.\n",
      "  max_depth = trial.suggest_int('max_depth', 5, 50, 10)\n",
      "c:\\Users\\ilyad\\AppData\\Local\\Programs\\Python\\Python311\\Lib\\site-packages\\optuna\\distributions.py:700: UserWarning: The distribution is specified by [5, 50] and step=10, but the range is not divisible by `step`. It will be replaced by [5, 45].\n",
      "  warnings.warn(\n",
      "C:\\Users\\ilyad\\AppData\\Local\\Temp\\ipykernel_20820\\718936349.py:7: FutureWarning: suggest_int() got {'step'} as positional arguments but they were expected to be given as keyword arguments.\n",
      "  min_samples_leaf = trial.suggest_int('min_samples_leaf', 4, 10, 1)\n",
      "[I 2024-08-27 22:12:05,620] Trial 4 finished with value: 0.8105875347794583 and parameters: {'n_estimators': 350, 'max_depth': 15, 'min_samples_leaf': 5}. Best is trial 4 with value: 0.8105875347794583.\n",
      "C:\\Users\\ilyad\\AppData\\Local\\Temp\\ipykernel_20820\\718936349.py:5: FutureWarning: suggest_int() got {'step'} as positional arguments but they were expected to be given as keyword arguments.\n",
      "  n_estimators = trial.suggest_int('n_estimators', 100, 400, 10)\n",
      "C:\\Users\\ilyad\\AppData\\Local\\Temp\\ipykernel_20820\\718936349.py:6: FutureWarning: suggest_int() got {'step'} as positional arguments but they were expected to be given as keyword arguments.\n",
      "  max_depth = trial.suggest_int('max_depth', 5, 50, 10)\n",
      "c:\\Users\\ilyad\\AppData\\Local\\Programs\\Python\\Python311\\Lib\\site-packages\\optuna\\distributions.py:700: UserWarning: The distribution is specified by [5, 50] and step=10, but the range is not divisible by `step`. It will be replaced by [5, 45].\n",
      "  warnings.warn(\n",
      "C:\\Users\\ilyad\\AppData\\Local\\Temp\\ipykernel_20820\\718936349.py:7: FutureWarning: suggest_int() got {'step'} as positional arguments but they were expected to be given as keyword arguments.\n",
      "  min_samples_leaf = trial.suggest_int('min_samples_leaf', 4, 10, 1)\n",
      "[I 2024-08-27 22:12:07,044] Trial 5 finished with value: 0.8064795592672265 and parameters: {'n_estimators': 150, 'max_depth': 15, 'min_samples_leaf': 7}. Best is trial 4 with value: 0.8105875347794583.\n",
      "C:\\Users\\ilyad\\AppData\\Local\\Temp\\ipykernel_20820\\718936349.py:5: FutureWarning: suggest_int() got {'step'} as positional arguments but they were expected to be given as keyword arguments.\n",
      "  n_estimators = trial.suggest_int('n_estimators', 100, 400, 10)\n",
      "C:\\Users\\ilyad\\AppData\\Local\\Temp\\ipykernel_20820\\718936349.py:6: FutureWarning: suggest_int() got {'step'} as positional arguments but they were expected to be given as keyword arguments.\n",
      "  max_depth = trial.suggest_int('max_depth', 5, 50, 10)\n",
      "c:\\Users\\ilyad\\AppData\\Local\\Programs\\Python\\Python311\\Lib\\site-packages\\optuna\\distributions.py:700: UserWarning: The distribution is specified by [5, 50] and step=10, but the range is not divisible by `step`. It will be replaced by [5, 45].\n",
      "  warnings.warn(\n",
      "C:\\Users\\ilyad\\AppData\\Local\\Temp\\ipykernel_20820\\718936349.py:7: FutureWarning: suggest_int() got {'step'} as positional arguments but they were expected to be given as keyword arguments.\n",
      "  min_samples_leaf = trial.suggest_int('min_samples_leaf', 4, 10, 1)\n",
      "[I 2024-08-27 22:12:09,451] Trial 6 finished with value: 0.8076301172996345 and parameters: {'n_estimators': 230, 'max_depth': 15, 'min_samples_leaf': 8}. Best is trial 4 with value: 0.8105875347794583.\n",
      "C:\\Users\\ilyad\\AppData\\Local\\Temp\\ipykernel_20820\\718936349.py:5: FutureWarning: suggest_int() got {'step'} as positional arguments but they were expected to be given as keyword arguments.\n",
      "  n_estimators = trial.suggest_int('n_estimators', 100, 400, 10)\n",
      "C:\\Users\\ilyad\\AppData\\Local\\Temp\\ipykernel_20820\\718936349.py:6: FutureWarning: suggest_int() got {'step'} as positional arguments but they were expected to be given as keyword arguments.\n",
      "  max_depth = trial.suggest_int('max_depth', 5, 50, 10)\n",
      "c:\\Users\\ilyad\\AppData\\Local\\Programs\\Python\\Python311\\Lib\\site-packages\\optuna\\distributions.py:700: UserWarning: The distribution is specified by [5, 50] and step=10, but the range is not divisible by `step`. It will be replaced by [5, 45].\n",
      "  warnings.warn(\n",
      "C:\\Users\\ilyad\\AppData\\Local\\Temp\\ipykernel_20820\\718936349.py:7: FutureWarning: suggest_int() got {'step'} as positional arguments but they were expected to be given as keyword arguments.\n",
      "  min_samples_leaf = trial.suggest_int('min_samples_leaf', 4, 10, 1)\n",
      "[I 2024-08-27 22:12:10,921] Trial 7 finished with value: 0.8108034426229004 and parameters: {'n_estimators': 140, 'max_depth': 15, 'min_samples_leaf': 6}. Best is trial 7 with value: 0.8108034426229004.\n",
      "C:\\Users\\ilyad\\AppData\\Local\\Temp\\ipykernel_20820\\718936349.py:5: FutureWarning: suggest_int() got {'step'} as positional arguments but they were expected to be given as keyword arguments.\n",
      "  n_estimators = trial.suggest_int('n_estimators', 100, 400, 10)\n",
      "C:\\Users\\ilyad\\AppData\\Local\\Temp\\ipykernel_20820\\718936349.py:6: FutureWarning: suggest_int() got {'step'} as positional arguments but they were expected to be given as keyword arguments.\n",
      "  max_depth = trial.suggest_int('max_depth', 5, 50, 10)\n",
      "c:\\Users\\ilyad\\AppData\\Local\\Programs\\Python\\Python311\\Lib\\site-packages\\optuna\\distributions.py:700: UserWarning: The distribution is specified by [5, 50] and step=10, but the range is not divisible by `step`. It will be replaced by [5, 45].\n",
      "  warnings.warn(\n",
      "C:\\Users\\ilyad\\AppData\\Local\\Temp\\ipykernel_20820\\718936349.py:7: FutureWarning: suggest_int() got {'step'} as positional arguments but they were expected to be given as keyword arguments.\n",
      "  min_samples_leaf = trial.suggest_int('min_samples_leaf', 4, 10, 1)\n",
      "[I 2024-08-27 22:12:13,161] Trial 8 finished with value: 0.8107918064263029 and parameters: {'n_estimators': 240, 'max_depth': 35, 'min_samples_leaf': 5}. Best is trial 7 with value: 0.8108034426229004.\n",
      "C:\\Users\\ilyad\\AppData\\Local\\Temp\\ipykernel_20820\\718936349.py:5: FutureWarning: suggest_int() got {'step'} as positional arguments but they were expected to be given as keyword arguments.\n",
      "  n_estimators = trial.suggest_int('n_estimators', 100, 400, 10)\n",
      "C:\\Users\\ilyad\\AppData\\Local\\Temp\\ipykernel_20820\\718936349.py:6: FutureWarning: suggest_int() got {'step'} as positional arguments but they were expected to be given as keyword arguments.\n",
      "  max_depth = trial.suggest_int('max_depth', 5, 50, 10)\n",
      "c:\\Users\\ilyad\\AppData\\Local\\Programs\\Python\\Python311\\Lib\\site-packages\\optuna\\distributions.py:700: UserWarning: The distribution is specified by [5, 50] and step=10, but the range is not divisible by `step`. It will be replaced by [5, 45].\n",
      "  warnings.warn(\n",
      "C:\\Users\\ilyad\\AppData\\Local\\Temp\\ipykernel_20820\\718936349.py:7: FutureWarning: suggest_int() got {'step'} as positional arguments but they were expected to be given as keyword arguments.\n",
      "  min_samples_leaf = trial.suggest_int('min_samples_leaf', 4, 10, 1)\n",
      "[I 2024-08-27 22:12:15,584] Trial 9 finished with value: 0.8128067740254483 and parameters: {'n_estimators': 250, 'max_depth': 25, 'min_samples_leaf': 4}. Best is trial 9 with value: 0.8128067740254483.\n",
      "C:\\Users\\ilyad\\AppData\\Local\\Temp\\ipykernel_20820\\718936349.py:5: FutureWarning: suggest_int() got {'step'} as positional arguments but they were expected to be given as keyword arguments.\n",
      "  n_estimators = trial.suggest_int('n_estimators', 100, 400, 10)\n",
      "C:\\Users\\ilyad\\AppData\\Local\\Temp\\ipykernel_20820\\718936349.py:6: FutureWarning: suggest_int() got {'step'} as positional arguments but they were expected to be given as keyword arguments.\n",
      "  max_depth = trial.suggest_int('max_depth', 5, 50, 10)\n",
      "c:\\Users\\ilyad\\AppData\\Local\\Programs\\Python\\Python311\\Lib\\site-packages\\optuna\\distributions.py:700: UserWarning: The distribution is specified by [5, 50] and step=10, but the range is not divisible by `step`. It will be replaced by [5, 45].\n",
      "  warnings.warn(\n",
      "C:\\Users\\ilyad\\AppData\\Local\\Temp\\ipykernel_20820\\718936349.py:7: FutureWarning: suggest_int() got {'step'} as positional arguments but they were expected to be given as keyword arguments.\n",
      "  min_samples_leaf = trial.suggest_int('min_samples_leaf', 4, 10, 1)\n",
      "[I 2024-08-27 22:12:19,215] Trial 10 finished with value: 0.8114580340888675 and parameters: {'n_estimators': 390, 'max_depth': 35, 'min_samples_leaf': 4}. Best is trial 9 with value: 0.8128067740254483.\n",
      "C:\\Users\\ilyad\\AppData\\Local\\Temp\\ipykernel_20820\\718936349.py:5: FutureWarning: suggest_int() got {'step'} as positional arguments but they were expected to be given as keyword arguments.\n",
      "  n_estimators = trial.suggest_int('n_estimators', 100, 400, 10)\n",
      "C:\\Users\\ilyad\\AppData\\Local\\Temp\\ipykernel_20820\\718936349.py:6: FutureWarning: suggest_int() got {'step'} as positional arguments but they were expected to be given as keyword arguments.\n",
      "  max_depth = trial.suggest_int('max_depth', 5, 50, 10)\n",
      "c:\\Users\\ilyad\\AppData\\Local\\Programs\\Python\\Python311\\Lib\\site-packages\\optuna\\distributions.py:700: UserWarning: The distribution is specified by [5, 50] and step=10, but the range is not divisible by `step`. It will be replaced by [5, 45].\n",
      "  warnings.warn(\n",
      "C:\\Users\\ilyad\\AppData\\Local\\Temp\\ipykernel_20820\\718936349.py:7: FutureWarning: suggest_int() got {'step'} as positional arguments but they were expected to be given as keyword arguments.\n",
      "  min_samples_leaf = trial.suggest_int('min_samples_leaf', 4, 10, 1)\n",
      "[I 2024-08-27 22:12:22,684] Trial 11 finished with value: 0.8117136027108843 and parameters: {'n_estimators': 380, 'max_depth': 35, 'min_samples_leaf': 4}. Best is trial 9 with value: 0.8128067740254483.\n",
      "C:\\Users\\ilyad\\AppData\\Local\\Temp\\ipykernel_20820\\718936349.py:5: FutureWarning: suggest_int() got {'step'} as positional arguments but they were expected to be given as keyword arguments.\n",
      "  n_estimators = trial.suggest_int('n_estimators', 100, 400, 10)\n",
      "C:\\Users\\ilyad\\AppData\\Local\\Temp\\ipykernel_20820\\718936349.py:6: FutureWarning: suggest_int() got {'step'} as positional arguments but they were expected to be given as keyword arguments.\n",
      "  max_depth = trial.suggest_int('max_depth', 5, 50, 10)\n",
      "c:\\Users\\ilyad\\AppData\\Local\\Programs\\Python\\Python311\\Lib\\site-packages\\optuna\\distributions.py:700: UserWarning: The distribution is specified by [5, 50] and step=10, but the range is not divisible by `step`. It will be replaced by [5, 45].\n",
      "  warnings.warn(\n",
      "C:\\Users\\ilyad\\AppData\\Local\\Temp\\ipykernel_20820\\718936349.py:7: FutureWarning: suggest_int() got {'step'} as positional arguments but they were expected to be given as keyword arguments.\n",
      "  min_samples_leaf = trial.suggest_int('min_samples_leaf', 4, 10, 1)\n",
      "[I 2024-08-27 22:12:26,336] Trial 12 finished with value: 0.8108799537972627 and parameters: {'n_estimators': 400, 'max_depth': 35, 'min_samples_leaf': 4}. Best is trial 9 with value: 0.8128067740254483.\n",
      "C:\\Users\\ilyad\\AppData\\Local\\Temp\\ipykernel_20820\\718936349.py:5: FutureWarning: suggest_int() got {'step'} as positional arguments but they were expected to be given as keyword arguments.\n",
      "  n_estimators = trial.suggest_int('n_estimators', 100, 400, 10)\n",
      "C:\\Users\\ilyad\\AppData\\Local\\Temp\\ipykernel_20820\\718936349.py:6: FutureWarning: suggest_int() got {'step'} as positional arguments but they were expected to be given as keyword arguments.\n",
      "  max_depth = trial.suggest_int('max_depth', 5, 50, 10)\n",
      "c:\\Users\\ilyad\\AppData\\Local\\Programs\\Python\\Python311\\Lib\\site-packages\\optuna\\distributions.py:700: UserWarning: The distribution is specified by [5, 50] and step=10, but the range is not divisible by `step`. It will be replaced by [5, 45].\n",
      "  warnings.warn(\n",
      "C:\\Users\\ilyad\\AppData\\Local\\Temp\\ipykernel_20820\\718936349.py:7: FutureWarning: suggest_int() got {'step'} as positional arguments but they were expected to be given as keyword arguments.\n",
      "  min_samples_leaf = trial.suggest_int('min_samples_leaf', 4, 10, 1)\n",
      "[I 2024-08-27 22:12:29,305] Trial 13 finished with value: 0.8120837820219862 and parameters: {'n_estimators': 320, 'max_depth': 25, 'min_samples_leaf': 4}. Best is trial 9 with value: 0.8128067740254483.\n",
      "C:\\Users\\ilyad\\AppData\\Local\\Temp\\ipykernel_20820\\718936349.py:5: FutureWarning: suggest_int() got {'step'} as positional arguments but they were expected to be given as keyword arguments.\n",
      "  n_estimators = trial.suggest_int('n_estimators', 100, 400, 10)\n",
      "C:\\Users\\ilyad\\AppData\\Local\\Temp\\ipykernel_20820\\718936349.py:6: FutureWarning: suggest_int() got {'step'} as positional arguments but they were expected to be given as keyword arguments.\n",
      "  max_depth = trial.suggest_int('max_depth', 5, 50, 10)\n",
      "c:\\Users\\ilyad\\AppData\\Local\\Programs\\Python\\Python311\\Lib\\site-packages\\optuna\\distributions.py:700: UserWarning: The distribution is specified by [5, 50] and step=10, but the range is not divisible by `step`. It will be replaced by [5, 45].\n",
      "  warnings.warn(\n",
      "C:\\Users\\ilyad\\AppData\\Local\\Temp\\ipykernel_20820\\718936349.py:7: FutureWarning: suggest_int() got {'step'} as positional arguments but they were expected to be given as keyword arguments.\n",
      "  min_samples_leaf = trial.suggest_int('min_samples_leaf', 4, 10, 1)\n",
      "[I 2024-08-27 22:12:32,045] Trial 14 finished with value: 0.8123469047828469 and parameters: {'n_estimators': 310, 'max_depth': 25, 'min_samples_leaf': 6}. Best is trial 9 with value: 0.8128067740254483.\n",
      "C:\\Users\\ilyad\\AppData\\Local\\Temp\\ipykernel_20820\\718936349.py:5: FutureWarning: suggest_int() got {'step'} as positional arguments but they were expected to be given as keyword arguments.\n",
      "  n_estimators = trial.suggest_int('n_estimators', 100, 400, 10)\n",
      "C:\\Users\\ilyad\\AppData\\Local\\Temp\\ipykernel_20820\\718936349.py:6: FutureWarning: suggest_int() got {'step'} as positional arguments but they were expected to be given as keyword arguments.\n",
      "  max_depth = trial.suggest_int('max_depth', 5, 50, 10)\n",
      "c:\\Users\\ilyad\\AppData\\Local\\Programs\\Python\\Python311\\Lib\\site-packages\\optuna\\distributions.py:700: UserWarning: The distribution is specified by [5, 50] and step=10, but the range is not divisible by `step`. It will be replaced by [5, 45].\n",
      "  warnings.warn(\n",
      "C:\\Users\\ilyad\\AppData\\Local\\Temp\\ipykernel_20820\\718936349.py:7: FutureWarning: suggest_int() got {'step'} as positional arguments but they were expected to be given as keyword arguments.\n",
      "  min_samples_leaf = trial.suggest_int('min_samples_leaf', 4, 10, 1)\n",
      "[I 2024-08-27 22:12:33,805] Trial 15 finished with value: 0.8125103706538708 and parameters: {'n_estimators': 190, 'max_depth': 25, 'min_samples_leaf': 6}. Best is trial 9 with value: 0.8128067740254483.\n",
      "C:\\Users\\ilyad\\AppData\\Local\\Temp\\ipykernel_20820\\718936349.py:5: FutureWarning: suggest_int() got {'step'} as positional arguments but they were expected to be given as keyword arguments.\n",
      "  n_estimators = trial.suggest_int('n_estimators', 100, 400, 10)\n",
      "C:\\Users\\ilyad\\AppData\\Local\\Temp\\ipykernel_20820\\718936349.py:6: FutureWarning: suggest_int() got {'step'} as positional arguments but they were expected to be given as keyword arguments.\n",
      "  max_depth = trial.suggest_int('max_depth', 5, 50, 10)\n",
      "c:\\Users\\ilyad\\AppData\\Local\\Programs\\Python\\Python311\\Lib\\site-packages\\optuna\\distributions.py:700: UserWarning: The distribution is specified by [5, 50] and step=10, but the range is not divisible by `step`. It will be replaced by [5, 45].\n",
      "  warnings.warn(\n",
      "C:\\Users\\ilyad\\AppData\\Local\\Temp\\ipykernel_20820\\718936349.py:7: FutureWarning: suggest_int() got {'step'} as positional arguments but they were expected to be given as keyword arguments.\n",
      "  min_samples_leaf = trial.suggest_int('min_samples_leaf', 4, 10, 1)\n",
      "[I 2024-08-27 22:12:35,607] Trial 16 finished with value: 0.8125103706538708 and parameters: {'n_estimators': 190, 'max_depth': 25, 'min_samples_leaf': 6}. Best is trial 9 with value: 0.8128067740254483.\n",
      "C:\\Users\\ilyad\\AppData\\Local\\Temp\\ipykernel_20820\\718936349.py:5: FutureWarning: suggest_int() got {'step'} as positional arguments but they were expected to be given as keyword arguments.\n",
      "  n_estimators = trial.suggest_int('n_estimators', 100, 400, 10)\n",
      "C:\\Users\\ilyad\\AppData\\Local\\Temp\\ipykernel_20820\\718936349.py:6: FutureWarning: suggest_int() got {'step'} as positional arguments but they were expected to be given as keyword arguments.\n",
      "  max_depth = trial.suggest_int('max_depth', 5, 50, 10)\n",
      "c:\\Users\\ilyad\\AppData\\Local\\Programs\\Python\\Python311\\Lib\\site-packages\\optuna\\distributions.py:700: UserWarning: The distribution is specified by [5, 50] and step=10, but the range is not divisible by `step`. It will be replaced by [5, 45].\n",
      "  warnings.warn(\n",
      "C:\\Users\\ilyad\\AppData\\Local\\Temp\\ipykernel_20820\\718936349.py:7: FutureWarning: suggest_int() got {'step'} as positional arguments but they were expected to be given as keyword arguments.\n",
      "  min_samples_leaf = trial.suggest_int('min_samples_leaf', 4, 10, 1)\n",
      "[I 2024-08-27 22:12:37,209] Trial 17 finished with value: 0.8054853371361057 and parameters: {'n_estimators': 170, 'max_depth': 25, 'min_samples_leaf': 7}. Best is trial 9 with value: 0.8128067740254483.\n",
      "C:\\Users\\ilyad\\AppData\\Local\\Temp\\ipykernel_20820\\718936349.py:5: FutureWarning: suggest_int() got {'step'} as positional arguments but they were expected to be given as keyword arguments.\n",
      "  n_estimators = trial.suggest_int('n_estimators', 100, 400, 10)\n",
      "C:\\Users\\ilyad\\AppData\\Local\\Temp\\ipykernel_20820\\718936349.py:6: FutureWarning: suggest_int() got {'step'} as positional arguments but they were expected to be given as keyword arguments.\n",
      "  max_depth = trial.suggest_int('max_depth', 5, 50, 10)\n",
      "c:\\Users\\ilyad\\AppData\\Local\\Programs\\Python\\Python311\\Lib\\site-packages\\optuna\\distributions.py:700: UserWarning: The distribution is specified by [5, 50] and step=10, but the range is not divisible by `step`. It will be replaced by [5, 45].\n",
      "  warnings.warn(\n",
      "C:\\Users\\ilyad\\AppData\\Local\\Temp\\ipykernel_20820\\718936349.py:7: FutureWarning: suggest_int() got {'step'} as positional arguments but they were expected to be given as keyword arguments.\n",
      "  min_samples_leaf = trial.suggest_int('min_samples_leaf', 4, 10, 1)\n",
      "[I 2024-08-27 22:12:39,595] Trial 18 finished with value: 0.8118792777526114 and parameters: {'n_estimators': 270, 'max_depth': 15, 'min_samples_leaf': 5}. Best is trial 9 with value: 0.8128067740254483.\n",
      "C:\\Users\\ilyad\\AppData\\Local\\Temp\\ipykernel_20820\\718936349.py:5: FutureWarning: suggest_int() got {'step'} as positional arguments but they were expected to be given as keyword arguments.\n",
      "  n_estimators = trial.suggest_int('n_estimators', 100, 400, 10)\n",
      "C:\\Users\\ilyad\\AppData\\Local\\Temp\\ipykernel_20820\\718936349.py:6: FutureWarning: suggest_int() got {'step'} as positional arguments but they were expected to be given as keyword arguments.\n",
      "  max_depth = trial.suggest_int('max_depth', 5, 50, 10)\n",
      "c:\\Users\\ilyad\\AppData\\Local\\Programs\\Python\\Python311\\Lib\\site-packages\\optuna\\distributions.py:700: UserWarning: The distribution is specified by [5, 50] and step=10, but the range is not divisible by `step`. It will be replaced by [5, 45].\n",
      "  warnings.warn(\n",
      "C:\\Users\\ilyad\\AppData\\Local\\Temp\\ipykernel_20820\\718936349.py:7: FutureWarning: suggest_int() got {'step'} as positional arguments but they were expected to be given as keyword arguments.\n",
      "  min_samples_leaf = trial.suggest_int('min_samples_leaf', 4, 10, 1)\n",
      "[I 2024-08-27 22:12:41,375] Trial 19 finished with value: 0.8067635919619219 and parameters: {'n_estimators': 200, 'max_depth': 35, 'min_samples_leaf': 7}. Best is trial 9 with value: 0.8128067740254483.\n"
     ]
    }
   ],
   "source": [
    "# Поиск оптимальных гиперпараметров\n",
    "sampler = optuna.samplers.TPESampler(seed=random_state)\n",
    "study_rf = optuna.create_study(\n",
    "    sampler=sampler, study_name='RandomForestClassifier', direction='maximize')\n",
    "study_rf.optimize(optuna_rf, n_trials=20)"
   ]
  },
  {
   "cell_type": "code",
   "execution_count": 54,
   "metadata": {},
   "outputs": [],
   "source": [
    "# Модель с лучшими параметрами  \n",
    "optuna_rf = ensemble.RandomForestClassifier(\n",
    "    **study_rf.best_params, class_weight='balanced', n_jobs=-1,\n",
    "    random_state=random_state\n",
    ")\n",
    "optuna_rf.fit(X_train, y_train)\n",
    "y_train_pred = optuna_rf.predict(X_train)\n",
    "y_test_pred = optuna_rf.predict(X_test)"
   ]
  },
  {
   "cell_type": "code",
   "execution_count": 55,
   "metadata": {},
   "outputs": [
    {
     "name": "stdout",
     "output_type": "stream",
     "text": [
      "Наилучшие значения гиперпараметров: {'n_estimators': 250, 'max_depth': 25, 'min_samples_leaf': 4}\n",
      "f1_score на обучающем наборе: 0.96\n",
      "f1_score на тестовом наборе: 0.80\n"
     ]
    }
   ],
   "source": [
    "print(f'Наилучшие значения гиперпараметров: {study_rf.best_params}')\n",
    "print('f1_score на обучающем наборе: {:.2f}'.format(metrics.f1_score(y_train, y_train_pred)))\n",
    "print('f1_score на тестовом наборе: {:.2f}'.format(metrics.f1_score(y_test, y_test_pred)))"
   ]
  },
  {
   "cell_type": "markdown",
   "metadata": {},
   "source": [
    ">Значения метрики *f1_score* на тестовом наборе не изменились, комбинация внешних параметров лучше, чем заданы по умолчанию не найдена."
   ]
  }
 ],
 "metadata": {
  "kernelspec": {
   "display_name": "Python 3",
   "language": "python",
   "name": "python3"
  },
  "language_info": {
   "codemirror_mode": {
    "name": "ipython",
    "version": 3
   },
   "file_extension": ".py",
   "mimetype": "text/x-python",
   "name": "python",
   "nbconvert_exporter": "python",
   "pygments_lexer": "ipython3",
   "version": "3.11.8"
  }
 },
 "nbformat": 4,
 "nbformat_minor": 2
}
